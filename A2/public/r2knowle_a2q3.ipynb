{
 "cells": [
  {
   "cell_type": "markdown",
   "metadata": {},
   "source": [
    "# A2-Q3: Parametric Spline"
   ]
  },
  {
   "cell_type": "code",
   "execution_count": 2,
   "metadata": {},
   "outputs": [],
   "source": [
    "import numpy as np\n",
    "from scipy.interpolate import make_interp_spline\n",
    "import matplotlib\n",
    "matplotlib.use('TkAgg')\n",
    "import matplotlib.pyplot as plt"
   ]
  },
  {
   "cell_type": "markdown",
   "metadata": {},
   "source": [
    "## (a) Write your nickname and display it"
   ]
  },
  {
   "cell_type": "code",
   "execution_count": 12,
   "metadata": {},
   "outputs": [
    {
     "name": "stdout",
     "output_type": "stream",
     "text": [
      "[(702.5458781362006, 188.83118279569885), (703.4892473118279, 243.54659498207877), (711.0362007168458, 297.31863799283144), (761.0347670250895, 277.5078853046594), (792.1659498207885, 219.96236559139777), (811.0333333333332, 159.58673835125438), (811.0333333333332, 243.54659498207877), (836.5043010752687, 302.03548387096765)]\n"
     ]
    }
   ],
   "source": [
    "# [1] Display nickname image\n",
    "\n",
    "f = plt.imread('luy.jpeg')\n",
    "plt.figure(figsize=(9,5)); \n",
    "plt.imshow(f);\n",
    "x = plt.ginput(8);\n",
    "print(x);"
   ]
  },
  {
   "cell_type": "markdown",
   "metadata": {},
   "source": [
    "## (b) Hardcode interpolation points"
   ]
  },
  {
   "cell_type": "code",
   "execution_count": 17,
   "metadata": {},
   "outputs": [
    {
     "name": "stdout",
     "output_type": "stream",
     "text": [
      "[(90.15973715651137, 488.2908004778973), (83.12795698924731, 415.9639187574672)]\n"
     ]
    }
   ],
   "source": [
    "# === YOUR CODE HERE ===\n",
    "R = [(90.15973715651137, 488.2908004778973), (83.12795698924731, 415.9639187574672), (73.08255675029869, 330.57801672640386), (72.07801672640383, 218.0695340501792), (86.14157706093187, 126.65639187574669), (193.6273596176822, 114.6019115890083), (222.75902031063322, 197.97873357228195), (137.3731182795699, 276.3328554360813), (85.13703703703703, 288.3873357228196), (209.7, 442.0819593787336)]\n",
    "O = [(406.58984468339304, 434.0456391875747), (330.2448028673835, 359.7096774193549), (297.09498207885304, 226.10585424133814), (328.2357228195938, 116.61099163679808), (394.5353643966547, 46.293189964157705), (476.9076463560334, 104.55651135005974), (492.9802867383512, 217.06499402628435), (488.96212664277175, 319.52807646356035), (467.8667861409797, 382.8140979689367), (403.5762246117084, 438.06379928315414)]\n",
    "B = [(641.6522102747908, 428.0183990442055), (630.6022700119473, 355.69151732377543), (626.5841099163679, 273.31923536439666), (621.5614097968936, 198.98327359617684), (616.5387096774193, 104.55651135005974), (694.8928315412186, 118.62007168458786), (706.9473118279569, 198.98327359617684), (651.6976105137395, 252.22389486260454), (717.9972520908004, 318.52353643966546), (692.8837514934288, 387.836798088411)]\n",
    "dash = [(707.9518518518518, 69.39761051373955), (735.074432497013, 93.50657108721623), (755.1652329749103, 111.5882915173238)]\n",
    "D = [(871.6918757467145, 98.52927120669051), (877.7191158900835, 163.8243727598566), (891.7826762246116, 246.19665471923537), (895.8008363201911, 311.49175627240146), (906.8507765830345, 419.98207885304663), (980.1821983273596, 369.7550776583035), (1026.3910394265233, 252.22389486260454), (1013.33201911589, 148.7562724014337), (951.0505376344086, 108.57467144563918), (901.8280764635604, 98.52927120669051)]\n",
    "\n",
    "R_y = []\n",
    "O_y = []\n",
    "B_y = []\n",
    "dash_y = []\n",
    "D_y = []\n",
    "\n",
    "R_x = []\n",
    "O_x = []\n",
    "B_x = []\n",
    "dash_x = []\n",
    "D_x = []\n",
    "\n",
    "print(R[:])\n",
    "for val in R:\n",
    "    R_y.append(val[1])\n",
    "    R_x.append(val[0])\n",
    "\n",
    "for val in O:\n",
    "    O_y.append(val[1])\n",
    "    O_x.append(val[0])\n",
    "    \n",
    "for val in B:\n",
    "    B_y.append(val[1])\n",
    "    B_x.append(val[0])\n",
    "\n",
    "for val in dash:\n",
    "    dash_y.append(val[1])\n",
    "    dash_x.append(val[0])\n",
    "    \n",
    "for val in D:\n",
    "    D_y.append(val[1])\n",
    "    D_x.append(val[0])"
   ]
  },
  {
   "cell_type": "markdown",
   "metadata": {},
   "source": [
    "## (c) `ParametricSpline`"
   ]
  },
  {
   "cell_type": "code",
   "execution_count": 4,
   "metadata": {},
   "outputs": [],
   "source": [
    "def MySpline(x, y):\n",
    "    '''\n",
    "     S = MySpline(x, y)\n",
    "\n",
    "     Input:\n",
    "       x and y are arrays (or lists) of corresponding x- and y-values,\n",
    "       specifying the points in the x-y plane.  The x-values\n",
    "       must be in increasing order.\n",
    "\n",
    "     Output:\n",
    "       S is a function that takes x or an array (or list) of x-values\n",
    "         It evaluates the cubic spline and returns the interpolated value.\n",
    "\n",
    "     Implementation:\n",
    "       \n",
    "       Hence...\n",
    "         a[0] = a_0          b[0] = b_1        c[0] = c_1\n",
    "         a[1] = a_1          b[1] = b_2        c[1] = c_2\n",
    "              :                   :                 :\n",
    "         a[n-2] = a_(n-2)    b[n-2] = b_(n-1)  c[n-2] = c_(n-1)\n",
    "         a[n-1] = a_(n-1)\n",
    "         \n",
    "       The polynomial piece is evaluated at xx using\n",
    "       \n",
    "         p_i(xx) = a[i]*(x[i+1]-xx)**3/(6*hi) + a[i+1]*(xx-x[i])**3/(6*hi) +\n",
    "                   b[i]*(x[i+1]-xx) + c[i]*(xx-x[i])\n",
    "\n",
    "       where hk = x[k+1] - x[k] for k = 0, ... , n-2\n",
    "    '''\n",
    "    n = len(x)\n",
    "    h = np.zeros(n-1)\n",
    "    b = np.zeros(n-1)\n",
    "    c = np.zeros(n-1)\n",
    "    a = np.zeros(n)\n",
    "    \n",
    "    M = np.zeros((n,n))\n",
    "    r = np.zeros(n)\n",
    "    \n",
    "\n",
    "    \n",
    "    # === YOUR CODE HERE ===\n",
    "    \n",
    "    # Determine h first:\n",
    "    \n",
    "    for i in range(0, n-1):\n",
    "        h[i] = x[i+1] - x[i]\n",
    "    \n",
    "    \n",
    "    # Now we need to determine a, starting with the first matrix\n",
    "    \n",
    "    M[0][0] = h[0]/3\n",
    "    M[0][1] = h[0]/6\n",
    "    \n",
    "    for i in range(1, n-1):\n",
    "        M[i][i-1] = h[i-1]/6\n",
    "        M[i][i] = (h[i-1] + h[i])/3\n",
    "        M[i][i+1] = h[i]/6\n",
    "    \n",
    "    M[n-1][n-2] = h[0]/6\n",
    "    M[n-1][n-1] = h[0]/3\n",
    "    \n",
    "    # Now we need to determine the second matrix:\n",
    "    for i in range (1, n-1):\n",
    "        r[i] = (y[i+1] - y[i])/h[i] - (y[i] - y[i-1])/h[i-1]\n",
    "        \n",
    "    # Lets now solve the array for the values of a\n",
    "    a = np.linalg.solve(M, r)\n",
    "    a[0] = 0           # make sure ending points are zero for natural BCs\n",
    "    a[n-1] = 0         # make sure ending points are zero for natural BCs\n",
    "    \n",
    "    \n",
    "    \n",
    "    # Now we can determine both b and c\n",
    "    for i in range(0, n-1):\n",
    "        b[i] = y[i]/h[i] - a[i]*h[i]/6\n",
    "    \n",
    "    for i in range(0, n-1):\n",
    "        c[i] = y[i+1]/h[i] - a[i+1]*h[i]/6\n",
    "    \n",
    "    \n",
    "    \n",
    "    #======================================\n",
    "    #\n",
    "    # This is the function that gets returned.\n",
    "    # It evaluates the cubic spline at xvals.\n",
    "    #\n",
    "    def spline(xvals, x=x, a=a, b=b, c=c):\n",
    "        '''\n",
    "         S = spline(xvals)\n",
    "         \n",
    "         Evaluates the cubic spline at xvals.\n",
    "         \n",
    "         Inputs:\n",
    "          xvals can be list-like, or a scalar (**must be in ascending order**)\n",
    "          \n",
    "         Output:\n",
    "          S is a list of values with the same number of elements as x\n",
    "        '''\n",
    "        # Turn non-list-like input into list-like\n",
    "        if type(xvals) not in (list, np.ndarray,):\n",
    "            xvals = [xvals]\n",
    "        \n",
    "        S = []  # The return list of values\n",
    "        \n",
    "        # \n",
    "        k = 0   # this is the current polynomial piece\n",
    "        hk = x[k+1] - x[k]\n",
    "        \n",
    "        \n",
    "\n",
    "        for xx in xvals:\n",
    "\n",
    "            # If the next x-value is not on the current piece...\n",
    "            if xx>x[k+1]:\n",
    "                # ... Go to next piece\n",
    "                k += 1\n",
    "                hk = x[k+1] - x[k]\n",
    "\n",
    "            S_of_x = a[k]*(x[k+1]-xx)**3/(6*hk) + a[k+1]*(xx-x[k])**3/(6*hk) + b[k]*(x[k+1]-xx) + c[k]*(xx-x[k])\n",
    "\n",
    "            S.append(S_of_x)\n",
    "        \n",
    "        return S\n",
    "    #======================================\n",
    "    \n",
    "    return spline\n",
    "\n",
    "\n",
    "def ParametricSpline(Sx,Sy):\n",
    "    '''\n",
    "     x_cs, y_cs, t = ParametricSpline(Sx,Sy)\n",
    "\n",
    "       Takes an array of x- and y-values, and returns a parametric\n",
    "       cubic spline in the form of two piecewise-cubic data structures\n",
    "       (one for the x-component and one for the y-component), as well as\n",
    "       the corresponding parameter values.\n",
    "       \n",
    "       The splines use natural boundary conditions.\n",
    "\n",
    "       Input:\n",
    "        Sx   array of x-values\n",
    "        Sy   array of y-values\n",
    "\n",
    "       Output:\n",
    "        x_cs function that evaluates the cubic spline for x-component\n",
    "        y_cs function that evaluates the cubic spline for y-component\n",
    "        t is the array of parameter values use for the splines\n",
    "\n",
    "       Note that x_cs(t) and y_cs(t) give Sx and Sy, respectively.\n",
    "    '''\n",
    "\n",
    "    # These lines are just placeholders... replace them\n",
    "    t = []\n",
    "    for i in range(0,len(Sx)):\n",
    "        t.append(i);\n",
    "    x_cs = MySpline(t, Sx)\n",
    "    y_cs = MySpline(t, Sy)\n",
    "    \n",
    "    # === YOUR CODE HERE ===\n",
    "    \n",
    "    return x_cs, y_cs, t"
   ]
  },
  {
   "cell_type": "markdown",
   "metadata": {},
   "source": [
    "## (d) Find parametric splines for each segment"
   ]
  },
  {
   "cell_type": "code",
   "execution_count": 5,
   "metadata": {},
   "outputs": [],
   "source": [
    "# === YOUR CODE HERE ===\n",
    "Rcalc = ParametricSpline(R_x, R_y)\n",
    "Ocalc = ParametricSpline(O_x, O_y)\n",
    "Bcalc = ParametricSpline(B_x, B_y)\n",
    "dashcalc = ParametricSpline(dash_x, dash_y)\n",
    "Dcalc = ParametricSpline(D_x, D_y)"
   ]
  },
  {
   "cell_type": "markdown",
   "metadata": {},
   "source": [
    "## (e) Plot the segments"
   ]
  },
  {
   "cell_type": "code",
   "execution_count": 16,
   "metadata": {},
   "outputs": [
    {
     "data": {
      "text/plain": [
       "[<matplotlib.lines.Line2D at 0x19ea6b919c0>]"
      ]
     },
     "execution_count": 16,
     "metadata": {},
     "output_type": "execute_result"
    },
    {
     "data": {
      "image/png": "[encoded data removed]",
      "text/plain": [
       "<Figure size 640x480 with 1 Axes>"
      ]
     },
     "metadata": {},
     "output_type": "display_data"
    }
   ],
   "source": [
    "# === YOUR CODE HERE ===\n",
    "pointsForLetters = np.linspace(Rcalc[2][0], Rcalc[2][-1], 100)\n",
    "pointsForDash = np.linspace(dashcalc[2][0], dashcalc[2][-1], 100)\n",
    "plt.axis('equal')\n",
    "plt.plot(Rcalc[0](pointsForLetters), list(map(lambda val: -val, Rcalc[1](pointsForLetters)))) # This is for flipping it so it displays correctly! \n",
    "plt.plot(Ocalc[0](pointsForLetters), list(map(lambda val: -val, Ocalc[1](pointsForLetters))))\n",
    "plt.plot(Bcalc[0](pointsForLetters), list(map(lambda val: -val, Bcalc[1](pointsForLetters))))\n",
    "plt.plot(dashcalc[0](pointsForDash), list(map(lambda val: -val, dashcalc[1](pointsForDash))))\n",
    "plt.plot(Dcalc[0](pointsForLetters), list(map(lambda val: -val, Dcalc[1](pointsForLetters))))\n",
    "\n",
    "plt.plot(R_x, list(map(lambda val: -val, R_y)), 'ro')\n",
    "plt.plot(O_x, list(map( lambda val: -val, O_y)), 'ro')\n",
    "plt.plot(B_x, list(map(lambda val: -val, B_y)), 'ro')\n",
    "plt.plot(dash_x, list(map(lambda val: -val, dash_y)), 'ro')\n",
    "plt.plot(D_x, list(map(lambda val: -val, D_y)), 'ro')\n",
    "#plt.plot(t,y,'ro');"
   ]
  },
  {
   "cell_type": "code",
   "execution_count": null,
   "metadata": {},
   "outputs": [],
   "source": []
  },
  {
   "cell_type": "code",
   "execution_count": null,
   "metadata": {},
   "outputs": [],
   "source": []
  },
  {
   "cell_type": "code",
   "execution_count": null,
   "metadata": {},
   "outputs": [],
   "source": []
  },
  {
   "cell_type": "code",
   "execution_count": null,
   "metadata": {},
   "outputs": [],
   "source": []
  }
 ],
 "metadata": {
  "kernelspec": {
   "display_name": "Python 3 (ipykernel)",
   "language": "python",
   "name": "python3"
  },
  "language_info": {
   "codemirror_mode": {
    "name": "ipython",
    "version": 3
   },
   "file_extension": ".py",
   "mimetype": "text/x-python",
   "name": "python",
   "nbconvert_exporter": "python",
   "pygments_lexer": "ipython3",
   "version": "3.10.9"
  }
 },
 "nbformat": 4,
 "nbformat_minor": 4
}
