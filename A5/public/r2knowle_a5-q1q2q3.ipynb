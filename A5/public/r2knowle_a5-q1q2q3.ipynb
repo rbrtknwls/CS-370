{
 "cells": [
  {
   "cell_type": "markdown",
   "metadata": {},
   "source": [
    "# A2Q1: SparseMatMult"
   ]
  },
  {
   "cell_type": "code",
   "execution_count": 98,
   "metadata": {},
   "outputs": [],
   "source": [
    "import numpy as np\n",
    "from copy import deepcopy\n",
    "import matplotlib.pyplot as plt\n",
    "from numpy.random import rand, randint, choice\n",
    "from scipy.sparse import coo_matrix, dok_matrix, find\n",
    "from copy import deepcopy"
   ]
  },
  {
   "cell_type": "code",
   "execution_count": 99,
   "metadata": {},
   "outputs": [],
   "source": [
    "def SparseMatMult(G, x):\n",
    "    '''\n",
    "      y = SparseMatMult(G, x)\n",
    "      \n",
    "      Multiplies a vector (x) by a sparse matrix G,\n",
    "      such that y = G @ x .\n",
    "      \n",
    "      Inputs:\n",
    "        G is an NxM dictionary-of-keys (dok) sparse matrix\n",
    "        x is an M-vector\n",
    "      \n",
    "      Output:\n",
    "        y is an N-vector\n",
    "    '''\n",
    "    rows,cols = G.nonzero()\n",
    "    Nrows,Ncols = np.shape(G)\n",
    "    y = np.zeros(Nrows)\n",
    "    # === YOUR CODE HERE\n",
    "    \n",
    "    currentVal = 0;\n",
    "    \n",
    "    for currRow in range(0, Nrows):\n",
    "        \n",
    "        for rowIdx in range(0, len(rows)):\n",
    "            if (rows[rowIdx] == currRow):\n",
    "                colIdx = cols[rowIdx]\n",
    "                \n",
    "                y[currRow] += G[currRow][colIdx] * x[colIdx]\n",
    "        \n",
    "    \n",
    "    \n",
    "    \n",
    "    \n",
    "    return y\n",
    "\n",
    "\n"
   ]
  },
  {
   "cell_type": "code",
   "execution_count": null,
   "metadata": {},
   "outputs": [],
   "source": [
    "\n"
   ]
  },
  {
   "cell_type": "markdown",
   "metadata": {},
   "source": [
    "# A2Q2: Page Rank"
   ]
  },
  {
   "cell_type": "code",
   "execution_count": 157,
   "metadata": {
    "code_folding": []
   },
   "outputs": [],
   "source": [
    "def PageRank(G, alpha):\n",
    "    '''\n",
    "     p, iters = PageRank(G, alpha)\n",
    "\n",
    "     Computes the Google Page-rank for the network in the adjacency matrix G.\n",
    "     \n",
    "     Note: This function never forms a full RxR matrix, where R is the number\n",
    "           of node in the network.\n",
    "\n",
    "     Input\n",
    "       G     is an RxR adjacency matrix, G[i,j] = 1 iff node j projects to node i\n",
    "             Note: G must be a dictionary-of-keys (dok) sparse matrix\n",
    "       alpha is a scalar between 0 and 1\n",
    "\n",
    "     Output\n",
    "       p     is a probability vector containing the Page-rank of each node\n",
    "       iters is the number of iterations used to achieve a change tolerance\n",
    "             of 1e-8 (changes to elements of p are all smaller than 1e-8)\n",
    "\n",
    "     [-1] if code is not readable\n",
    "    '''\n",
    "    \n",
    "    \n",
    "    \n",
    "    R = np.shape(G)[0]  # R = Number of nodes\n",
    "    \n",
    "    P = deepcopy(G)\n",
    "    deg = np.sum(G, axis=0)\n",
    "    for c in range(R):\n",
    "        for r in range(R):\n",
    "            P[r,c] /= deg[0,c]\n",
    "    \n",
    "    p = np.ones(R) / R\n",
    "    iters = 0\n",
    "\n",
    "    # === YOUR CODE HERE ===\n",
    "    threshold = 0.00000001\n",
    "    \n",
    "    while (True):\n",
    "        oldP = deepcopy(p);\n",
    "        p = P @ p\n",
    "        diff = np.max(np.abs(np.subtract(oldP,p)))\n",
    "        iters += 1;\n",
    "        if (diff < threshold):\n",
    "            break;\n",
    "    \n",
    "    \n",
    "    return p, iters"
   ]
  },
  {
   "cell_type": "code",
   "execution_count": 158,
   "metadata": {},
   "outputs": [
    {
     "data": {
      "text/plain": [
       "(array([0.0882354 , 0.        , 0.03431373, 0.19607851, 0.11437912,\n",
       "        0.08823537, 0.06862747, 0.0653595 , 0.08823539, 0.0441177 ,\n",
       "        0.09803925, 0.11437913]),\n",
       " 85)"
      ]
     },
     "execution_count": 158,
     "metadata": {},
     "output_type": "execute_result"
    }
   ],
   "source": [
    "G2 = dok_matrix((12,12), dtype=np.float32)\n",
    "G2[8,0] = 1 # link from 0 to 8\n",
    "G2[5,0] = 1\n",
    "G2[6,1] = 1 \n",
    "G2[3,2] = 1\n",
    "G2[5,2] = 1\n",
    "G2[6,2] = 1\n",
    "G2[7,3] = 1 # consider changing G[7,3] to G[7,1] = 1\n",
    "G2[10,3] = 1\n",
    "G2[11,3] = 1\n",
    "G2[3,4] = 1\n",
    "G2[6,4] = 1\n",
    "G2[3,5] = 1 # change to 0 for terminal branch [cycle]\n",
    "G2[8,5] = 1\n",
    "G2[2,6] = 1\n",
    "G2[3,6] = 1\n",
    "G2[5,7] = 1\n",
    "G2[10,7] = 1\n",
    "G2[0,8] = 1\n",
    "G2[9,8] = 1\n",
    "G2[0,9] = 1\n",
    "G2[3,10] = 1\n",
    "G2[11,10] = 1\n",
    "G2[4,11] = 1\n",
    "\n",
    "G2.toarray();\n",
    "\n",
    "PageRank(G2, 0.1)"
   ]
  },
  {
   "cell_type": "markdown",
   "metadata": {},
   "source": [
    "# A2Q3: Illegal Trading Network"
   ]
  },
  {
   "cell_type": "markdown",
   "metadata": {},
   "source": [
    "## (a) Create sparse matrix"
   ]
  },
  {
   "cell_type": "code",
   "execution_count": 159,
   "metadata": {},
   "outputs": [],
   "source": [
    "# === YOUR CODE HERE ===\n",
    "\n",
    "G3 = dok_matrix((12,12), dtype=np.float32)\n",
    "G3[1,0] = 38 # link from 0 to 1\n",
    "G3[2,0] = 38\n",
    "G3[4,0] = 24\n",
    "\n",
    "G3[0,1] = 6\n",
    "G3[2,1] = 41\n",
    "G3[5,1] = 53\n",
    "\n",
    "G3[0,2] = 47\n",
    "G3[1,2] = 29\n",
    "G3[3,2] = 24\n",
    "\n",
    "G3[2,3] = 8\n",
    "G3[4,3] = 42\n",
    "G3[5,3] = 50\n",
    "\n",
    "G3[0,4] = 9\n",
    "G3[3,4] = 4\n",
    "G3[5,4] = 9\n",
    "G3[6,4] = 39\n",
    "G3[11,4]= 39\n",
    "\n",
    "G3[1,5] = 9\n",
    "G3[3,5] = 28\n",
    "G3[4,5] = 19\n",
    "G3[7,5] = 22\n",
    "G3[11,5]= 22\n",
    "\n",
    "G3[4,6] = 13\n",
    "G3[7,6] = 17\n",
    "G3[8,6] = 23\n",
    "G3[9,6] = 27\n",
    "G3[11,6]= 20\n",
    "\n",
    "G3[5,7] = 15\n",
    "G3[6,7] = 21\n",
    "G3[8,7] = 21\n",
    "G3[9,7] = 10\n",
    "G3[10,7]= 18\n",
    "G3[11,7]= 15\n",
    "\n",
    "G3[6,8] = 24\n",
    "G3[7,8] = 24\n",
    "G3[9,8] = 32\n",
    "G3[10,8]= 20\n",
    "\n",
    "G3[6,9] = 30\n",
    "G3[7,9] = 40\n",
    "G3[8,9] = 5\n",
    "G3[10,9]= 25\n",
    "\n",
    "G3[7,10]= 33\n",
    "G3[8,10]= 7\n",
    "G3[9,10]=60\n",
    "\n",
    "G3[4,11]= 6\n",
    "G3[5,11]= 18\n",
    "G3[6,11]= 47\n",
    "G3[7,11]= 29\n",
    "\n",
    "G3.toarray();\n"
   ]
  },
  {
   "cell_type": "markdown",
   "metadata": {},
   "source": [
    "## (b) Run PageRank on netork"
   ]
  },
  {
   "cell_type": "code",
   "execution_count": 164,
   "metadata": {},
   "outputs": [
    {
     "data": {
      "image/png": "[encoded data removed]",
      "text/plain": [
       "<Figure size 640x480 with 1 Axes>"
      ]
     },
     "metadata": {},
     "output_type": "display_data"
    }
   ],
   "source": [
    "# === YOUR CODE HERE ===\n",
    "result, itr = PageRank(G3, 1)\n",
    "labels = [\"A\", \"B\", \"C\", \"D\", \"E\", \"F\", \"G\", \"H\", \"I\", \"J\", \"K\", \"L\"]\n",
    "plt.stem(labels, result);\n",
    "plt.title('Page Rank results (alpha=1)')\n",
    "plt.xlabel('Node')\n",
    "plt.ylabel('Probability / Pagerank Score');"
   ]
  },
  {
   "cell_type": "markdown",
   "metadata": {},
   "source": [
    "## (c) Note to police"
   ]
  },
  {
   "cell_type": "markdown",
   "metadata": {},
   "source": [
    "YOUR COMMENTS HERE"
   ]
  },
  {
   "cell_type": "code",
   "execution_count": null,
   "metadata": {},
   "outputs": [],
   "source": [
    "As can be seen from the stem graph, it would seem that node H has the most influence. "
   ]
  }
 ],
 "metadata": {
  "kernelspec": {
   "display_name": "Python 3 (ipykernel)",
   "language": "python",
   "name": "python3"
  },
  "language_info": {
   "codemirror_mode": {
    "name": "ipython",
    "version": 3
   },
   "file_extension": ".py",
   "mimetype": "text/x-python",
   "name": "python",
   "nbconvert_exporter": "python",
   "pygments_lexer": "ipython3",
   "version": "3.10.10"
  }
 },
 "nbformat": 4,
 "nbformat_minor": 2
}
