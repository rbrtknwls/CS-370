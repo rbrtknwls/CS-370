{
 "cells": [
  {
   "cell_type": "markdown",
   "metadata": {},
   "source": [
    "# Using Python's ODE Suite"
   ]
  },
  {
   "cell_type": "code",
   "execution_count": null,
   "metadata": {},
   "outputs": [],
   "source": [
    "import numpy as np\n",
    "from scipy.integrate import solve_ivp\n",
    "import matplotlib.pyplot as plt\n",
    "%matplotlib inline\n",
    "np.seterr(divide='ignore');"
   ]
  },
  {
   "cell_type": "markdown",
   "metadata": {
    "heading_collapsed": true
   },
   "source": [
    "## Simple Usage"
   ]
  },
  {
   "cell_type": "code",
   "execution_count": null,
   "metadata": {
    "hidden": true
   },
   "outputs": [],
   "source": [
    "# Dynamics function\n",
    "def simple_golf(t, z):\n",
    "    '''\n",
    "        z[0] = x(t)\n",
    "        z[1] = y(t)\n",
    "        z[3] = y'(t)\n",
    "    '''\n",
    "    # Vx is defined globally\n",
    "    return [Vx, z[2] , -9.81]"
   ]
  },
  {
   "cell_type": "code",
   "execution_count": null,
   "metadata": {
    "hidden": true
   },
   "outputs": [],
   "source": [
    "# IVP parameters\n",
    "tspan = [0, 10]\n",
    "y0 = [0, 0, 15]\n",
    "Vx = 25."
   ]
  },
  {
   "cell_type": "code",
   "execution_count": null,
   "metadata": {
    "hidden": true
   },
   "outputs": [],
   "source": [
    "# Call the numerical solver\n",
    "sol = solve_ivp(simple_golf, tspan, y0) # try adding max_step=1"
   ]
  },
  {
   "cell_type": "code",
   "execution_count": null,
   "metadata": {
    "hidden": true
   },
   "outputs": [],
   "source": [
    "type(sol)"
   ]
  },
  {
   "cell_type": "code",
   "execution_count": null,
   "metadata": {
    "hidden": true
   },
   "outputs": [],
   "source": [
    "sol"
   ]
  },
  {
   "cell_type": "code",
   "execution_count": null,
   "metadata": {
    "hidden": true
   },
   "outputs": [],
   "source": [
    "print(sol.t)\n",
    "print(len(sol.t))"
   ]
  },
  {
   "cell_type": "code",
   "execution_count": null,
   "metadata": {
    "hidden": true
   },
   "outputs": [],
   "source": [
    "print(len(sol.y))\n",
    "print(sol.y)"
   ]
  },
  {
   "cell_type": "code",
   "execution_count": null,
   "metadata": {
    "hidden": true,
    "scrolled": true
   },
   "outputs": [],
   "source": [
    "# Plot the solution\n",
    "plt.plot(sol.y[0], sol.y[1], 'ro-');\n",
    "plt.title('Golf Ball Trajectory')\n",
    "plt.xlabel('Distance (m)')\n",
    "plt.ylabel('Height (m)');"
   ]
  },
  {
   "cell_type": "code",
   "execution_count": null,
   "metadata": {
    "hidden": true
   },
   "outputs": [],
   "source": [
    "# The system state at the end\n",
    "sol.y[:,-1]"
   ]
  },
  {
   "cell_type": "markdown",
   "metadata": {
    "heading_collapsed": true
   },
   "source": [
    "## Passing additional parameters"
   ]
  },
  {
   "cell_type": "code",
   "execution_count": null,
   "metadata": {
    "hidden": true
   },
   "outputs": [],
   "source": [
    "# Suppose we want to pass Vx as a parameter to our dynamics function, like this.\n",
    "def simple_golf2(t, z, Vx):\n",
    "    '''\n",
    "        z[0] = x(t)\n",
    "        z[1] = y(t)\n",
    "        z[3] = y'(t)\n",
    "    '''\n",
    "    return [Vx, z[2] , -9.81]"
   ]
  },
  {
   "cell_type": "code",
   "execution_count": null,
   "metadata": {
    "hidden": true
   },
   "outputs": [],
   "source": [
    "# We can create a simple wrapper for our dynamics function, like this:\n",
    "fun = lambda t,x: simple_golf2(t,x,20)  # Vx will be passed through as a constant\n",
    "sol = solve_ivp(fun, tspan, y0, max_step=1.)"
   ]
  },
  {
   "cell_type": "code",
   "execution_count": null,
   "metadata": {
    "hidden": true,
    "scrolled": true
   },
   "outputs": [],
   "source": [
    "# Plot\n",
    "plt.plot(sol.y[0], sol.y[1], 'ro-');\n",
    "plt.title('Golf Ball Trajectory')\n",
    "plt.xlabel('Distance (m)')\n",
    "plt.ylabel('Height (m)');"
   ]
  },
  {
   "cell_type": "markdown",
   "metadata": {
    "heading_collapsed": true
   },
   "source": [
    "## ODE Solver Controls"
   ]
  },
  {
   "cell_type": "code",
   "execution_count": null,
   "metadata": {
    "hidden": true
   },
   "outputs": [],
   "source": [
    "# Maximum step size (max_step)\n",
    "sol = solve_ivp(simple_golf, tspan, y0, max_step=0.5)\n",
    "plt.plot(sol.y[0], sol.y[1], 'ro-')\n",
    "plt.xlabel('x'); plt.ylabel('y');"
   ]
  },
  {
   "cell_type": "code",
   "execution_count": null,
   "metadata": {
    "hidden": true
   },
   "outputs": [],
   "source": [
    "# Choosing solution timestamps (t_eval)\n",
    "tt = np.linspace(tspan[0], tspan[1], 41)\n",
    "sol = solve_ivp(simple_golf, tspan, y0, t_eval=tt)\n",
    "plt.plot(sol.y[0], sol.y[1], 'ro-')\n",
    "plt.xlabel('x'); plt.ylabel('y');"
   ]
  },
  {
   "cell_type": "code",
   "execution_count": null,
   "metadata": {
    "hidden": true
   },
   "outputs": [],
   "source": [
    "# Choosing error tolerances (rtol, atol)\n",
    "fun = (lambda t,z: 2*z[0]*(1-z[0])/(1+t))\n",
    "sol1 = solve_ivp(fun, [0,10], [0.3], rtol=1.e-2, atol=1.e-2)\n",
    "sol2 = solve_ivp(fun, [0,10], [0.3], rtol=1.e-7, atol=1.e-7)\n",
    "plt.plot(sol1.t, sol1.y[0], 'ro-')\n",
    "plt.plot(sol2.t, sol2.y[0], 'bo-')\n",
    "plt.xlabel('x'); plt.ylabel('y');"
   ]
  },
  {
   "cell_type": "markdown",
   "metadata": {
    "heading_collapsed": true
   },
   "source": [
    "## Event Functions"
   ]
  },
  {
   "cell_type": "code",
   "execution_count": null,
   "metadata": {
    "hidden": true
   },
   "outputs": [],
   "source": [
    "# Define the event function\n",
    "def my_event(t,z):\n",
    "    return z[1]\n",
    "# We want integration to terminate\n",
    "my_event.terminal = True\n",
    "# And we want only positive-to-negative crossings.\n",
    "my_event.direction = -1"
   ]
  },
  {
   "cell_type": "code",
   "execution_count": null,
   "metadata": {
    "hidden": true,
    "scrolled": true
   },
   "outputs": [],
   "source": [
    "fun = lambda t,x: simple_golf2(t,x,10)\n",
    "sol = solve_ivp(fun, tspan, y0, max_step=0.6, events=my_event)"
   ]
  },
  {
   "cell_type": "code",
   "execution_count": null,
   "metadata": {
    "hidden": true,
    "scrolled": true
   },
   "outputs": [],
   "source": [
    "plt.plot(sol.y[0], sol.y[1], 'ro-');\n",
    "plt.title('Golf Ball Trajectory')\n",
    "plt.xlabel('Distance (m)')\n",
    "plt.ylabel('Height (m)');"
   ]
  },
  {
   "cell_type": "code",
   "execution_count": null,
   "metadata": {
    "hidden": true
   },
   "outputs": [],
   "source": []
  }
 ],
 "metadata": {
  "kernelspec": {
   "display_name": "Python 3",
   "language": "python",
   "name": "python3"
  },
  "language_info": {
   "codemirror_mode": {
    "name": "ipython",
    "version": 3
   },
   "file_extension": ".py",
   "mimetype": "text/x-python",
   "name": "python",
   "nbconvert_exporter": "python",
   "pygments_lexer": "ipython3",
   "version": "3.6.8"
  },
  "toc": {
   "nav_menu": {},
   "number_sections": true,
   "sideBar": true,
   "skip_h1_title": false,
   "title_cell": "Table of Contents",
   "title_sidebar": "Contents",
   "toc_cell": false,
   "toc_position": {},
   "toc_section_display": true,
   "toc_window_display": false
  }
 },
 "nbformat": 4,
 "nbformat_minor": 2
}
