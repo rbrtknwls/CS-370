{
 "cells": [
  {
   "cell_type": "markdown",
   "metadata": {},
   "source": [
    "# A3-Q3: Time of Death"
   ]
  },
  {
   "cell_type": "code",
   "execution_count": 2,
   "metadata": {},
   "outputs": [],
   "source": [
    "import numpy as np\n",
    "from scipy.integrate import solve_ivp\n",
    "import matplotlib.pyplot as plt\n",
    "import math\n",
    "from copy import deepcopy\n",
    "\n",
    "def MyOde(f, tspan, y0, h):\n",
    "    t = tspan[0]\n",
    "    y = deepcopy(y0)\n",
    "    \n",
    "    tlst = []\n",
    "    ylst = []\n",
    "    \n",
    "    while (t < tspan[1]): \n",
    "        normalEulers = y + h*f(t,y);\n",
    "        newTime = t+h;\n",
    "        RumeEulers = y + (h/2) * (f(t,y) + f(newTime, normalEulers))\n",
    "\n",
    "       \n",
    "        tlst.append(newTime)\n",
    "        ylst.append(RumeEulers)\n",
    "            \n",
    "        y = RumeEulers;\n",
    "        t = newTime;\n",
    "    \n",
    "    \n",
    "    return np.array(tlst), np.array(ylst)"
   ]
  },
  {
   "cell_type": "markdown",
   "metadata": {},
   "source": [
    "## (a) Dynamics Function"
   ]
  },
  {
   "cell_type": "code",
   "execution_count": 3,
   "metadata": {},
   "outputs": [],
   "source": [
    "# === YOUR CODE HERE ===\n",
    "def AmbTemp(t):\n",
    "    if (t >= 7.5 and t <= 19):\n",
    "        return 22;\n",
    "    if (t >= 21 or t <= 7):\n",
    "        return 16;\n",
    "    if (t <= 7.5):\n",
    "        timeLeft = 7.5-t;\n",
    "        return 22 - (timeLeft/0.5)*6\n",
    "    else:\n",
    "        timeLeft = 21 - t;\n",
    "        return 16 + (timeLeft/2)*6;\n",
    "        \n",
    "\n",
    "def de(t, z):\n",
    "    '''\n",
    "    z1 = A\n",
    "    z2 = B\n",
    "    z3 = T\n",
    "    '''\n",
    "    \n",
    "    A = z[0];\n",
    "    B = z[1];\n",
    "    T = z[2];\n",
    "    \n",
    "\n",
    "    if (29 <= T and T <= 45):\n",
    "        newA = (0.0008*(T - 29)**2) * (1-math.exp((0.08)*(T-45))) * A * (30 - A)\n",
    "    else:\n",
    "        newA = 0;\n",
    "        \n",
    "    if (17 <= T and T <= 32):\n",
    "        newB = (0.001*(T - 17)**2) * (1-math.exp((0.05)*(T-32))) * B * (20 - B)\n",
    "    else:\n",
    "        newB = 0;\n",
    "    \n",
    "    part1 = -0.1 * (T - AmbTemp(t))\n",
    "    part2 = (A + B)/100\n",
    "    newC = part1 + part2\n",
    "    \n",
    "    \n",
    "    return np.array([newA, newB, newC])"
   ]
  },
  {
   "cell_type": "markdown",
   "metadata": {},
   "source": [
    "## (b) Run the simulation"
   ]
  },
  {
   "cell_type": "code",
   "execution_count": 4,
   "metadata": {},
   "outputs": [
    {
     "name": "stdout",
     "output_type": "stream",
     "text": [
      "[ 6.54034875 11.9558738  24.95932436]\n"
     ]
    }
   ],
   "source": [
    "# === YOUR CODE HERE ===\n",
    "timeStart = 9.25\n",
    "tspan = [timeStart, 23.25]\n",
    "yStart = np.array([1, 1, 37.5])\n",
    "\n",
    "t,y  = MyOde(de, tspan, yStart, 0.25)\n",
    "print(y[-1])"
   ]
  },
  {
   "cell_type": "code",
   "execution_count": 5,
   "metadata": {},
   "outputs": [
    {
     "data": {
      "text/plain": [
       "Text(0, 0.5, 'Temp (C)')"
      ]
     },
     "execution_count": 5,
     "metadata": {},
     "output_type": "execute_result"
    },
    {
     "data": {
      "image/png": "[encoded data removed]",
      "text/plain": [
       "<Figure size 640x480 with 1 Axes>"
      ]
     },
     "metadata": {},
     "output_type": "display_data"
    }
   ],
   "source": [
    "# Plot temperature, and display final state\n",
    "plt.plot(t, y[:,2], 'go-');\n",
    "\n",
    "plt.title('Tempature Over Time')\n",
    "plt.xlabel('Time (hour from midnight)')\n",
    "plt.ylabel('Temp (C)')"
   ]
  },
  {
   "cell_type": "markdown",
   "metadata": {},
   "source": [
    "## (c) Prime Suspect"
   ]
  },
  {
   "cell_type": "markdown",
   "metadata": {},
   "source": [
    "YOUR ANSWER HERE"
   ]
  },
  {
   "cell_type": "code",
   "execution_count": 6,
   "metadata": {},
   "outputs": [
    {
     "ename": "SyntaxError",
     "evalue": "invalid decimal literal (3111788644.py, line 1)",
     "output_type": "error",
     "traceback": [
      "\u001b[1;36m  Cell \u001b[1;32mIn[6], line 1\u001b[1;36m\u001b[0m\n\u001b[1;33m    It looks like the murder happens between 9am and 11am. We know this as at 9am,\u001b[0m\n\u001b[1;37m                                             ^\u001b[0m\n\u001b[1;31mSyntaxError\u001b[0m\u001b[1;31m:\u001b[0m invalid decimal literal\n"
     ]
    }
   ],
   "source": [
    "It looks like the murder happens between 9am and 11am. We know this as at 9am, \n",
    "the amount of bacteria B is too high and at 11am its too low. Therefore the most\n",
    "likely suspect is James Carver, as he doesnt have an alibi for this time."
   ]
  },
  {
   "cell_type": "code",
   "execution_count": null,
   "metadata": {},
   "outputs": [],
   "source": []
  },
  {
   "cell_type": "code",
   "execution_count": null,
   "metadata": {},
   "outputs": [],
   "source": []
  }
 ],
 "metadata": {
  "kernelspec": {
   "display_name": "Python 3 (ipykernel)",
   "language": "python",
   "name": "python3"
  },
  "language_info": {
   "codemirror_mode": {
    "name": "ipython",
    "version": 3
   },
   "file_extension": ".py",
   "mimetype": "text/x-python",
   "name": "python",
   "nbconvert_exporter": "python",
   "pygments_lexer": "ipython3",
   "version": "3.10.10"
  }
 },
 "nbformat": 4,
 "nbformat_minor": 4
}
