{
 "cells": [
  {
   "cell_type": "markdown",
   "metadata": {},
   "source": [
    "# A3-Q2: Golf Driving Range"
   ]
  },
  {
   "cell_type": "code",
   "execution_count": 1,
   "metadata": {},
   "outputs": [],
   "source": [
    "import numpy as np\n",
    "from copy import deepcopy\n",
    "import matplotlib.pyplot as plt"
   ]
  },
  {
   "cell_type": "code",
   "execution_count": 2,
   "metadata": {},
   "outputs": [],
   "source": [
    "# Supplied functions\n",
    "def Ground(d):\n",
    "    '''\n",
    "     h = Ground(d)\n",
    "     \n",
    "     Returns the height (in metres) of the ground at a horizontal distance\n",
    "     d (metres) from the origin.\n",
    "    '''\n",
    "    return 2.*(np.cos(d/4.)-np.sin(d/11.)-1)\n",
    "\n",
    "def GroundSlope(d):\n",
    "    '''\n",
    "     h = GroundSlope(d)\n",
    "     \n",
    "     Returns the slope of the ground at a horizontal distance\n",
    "     d (metres) from the origin.\n",
    "    '''\n",
    "    return 2.*(-1./4*np.sin(d/4) - 1./11*np.cos(d/11.))"
   ]
  },
  {
   "cell_type": "markdown",
   "metadata": {},
   "source": [
    "## (a) MyOde"
   ]
  },
  {
   "cell_type": "code",
   "execution_count": 3,
   "metadata": {},
   "outputs": [],
   "source": [
    "def MyOde(f, tspan, y0, h, event=(lambda t,y:1)):\n",
    "    '''\n",
    "     t,y = MyOde(f, tspan, y0, h, event=[])\n",
    "    \n",
    "     Numerically solves the initial value problem\n",
    "    \n",
    "        dy(t)/dt = f(t,y)\n",
    "            y(0) = y0\n",
    "    \n",
    "     using the Modified Euler time-stepping method.\n",
    "    \n",
    "     Input\n",
    "       f       a Python dynamics function with calling sequence\n",
    "                  dydt = f(t, y)\n",
    "       tspan   2-tuple giving the start and end times, [start, end]\n",
    "       y0      initial state of the system (as a 1D vector)\n",
    "       h       the time step to use (this is not adaptive time stepping)\n",
    "       events  an event function with calling sequence\n",
    "                  val = events(t, y)\n",
    "               The computation stops as soon as a negative value is\n",
    "               returned by the event function.\n",
    "    \n",
    "     Output\n",
    "       t       1D vector holding time stamps\n",
    "       y       an array that holds one state vector per row (corresponding\n",
    "               to the time stamps)\n",
    "    \n",
    "       Notes:\n",
    "           - t and y have the same number of rows.\n",
    "    \n",
    "           - The first element of t should be tspan[0], and the first\n",
    "             row of y should be the initial state, y0.\n",
    "    \n",
    "           - If the computation was stopped by the triggering of an event,\n",
    "             then the last row of t and y should correspond to the\n",
    "             time that linear interpolation indicates for the zero-crossing\n",
    "             of the event-function.\n",
    "    '''\n",
    "    \n",
    "    # Initialize output arrays, tlst and ylst\n",
    "    t = tspan[0]\n",
    "    y = deepcopy(y0)\n",
    "    \n",
    "    tlst = []\n",
    "    ylst = []\n",
    "    \n",
    "    tlst.append(t)\n",
    "    ylst.append(list(y))\n",
    "    \n",
    "    \n",
    "    # === YOUR CODE HERE ===\n",
    "    \n",
    "    \n",
    "    return np.array(tlst), np.array(ylst)\n"
   ]
  },
  {
   "cell_type": "markdown",
   "metadata": {},
   "source": [
    "## (b) Dynamics Function: `projectile`"
   ]
  },
  {
   "cell_type": "code",
   "execution_count": 4,
   "metadata": {},
   "outputs": [],
   "source": [
    "def projectile(t, z):\n",
    "\n",
    "    dzdt = np.zeros_like(z)\n",
    "    \n",
    "    # === YOUR CODE HERE ===\n",
    "    \n",
    "    return dzdt"
   ]
  },
  {
   "cell_type": "markdown",
   "metadata": {},
   "source": [
    "## (c) Events Function: `projectile_events`"
   ]
  },
  {
   "cell_type": "code",
   "execution_count": 5,
   "metadata": {},
   "outputs": [],
   "source": [
    "def projectile_events(t, z):\n",
    "    \n",
    "    val = 1\n",
    "    \n",
    "    # === YOUR CODE HERE ===\n",
    "    \n",
    "    return val"
   ]
  },
  {
   "cell_type": "markdown",
   "metadata": {},
   "source": [
    "## (d) Three flights"
   ]
  },
  {
   "cell_type": "code",
   "execution_count": 6,
   "metadata": {},
   "outputs": [],
   "source": [
    "theta = 50\n",
    "S = 58\n",
    "tspan = [0, 30]\n",
    "h = 0.05\n",
    "theta_rad = theta/180.*np.pi\n",
    "yStart = np.array([0, 0, S*np.cos(theta_rad), S*np.sin(theta_rad)])\n",
    "\n",
    "t,y = MyOde(projectile, tspan, yStart, h, projectile_events)\n"
   ]
  },
  {
   "cell_type": "code",
   "execution_count": 7,
   "metadata": {
    "scrolled": true
   },
   "outputs": [
    {
     "data": {
      "image/png": "[encoded data removed]",
      "text/plain": [
       "<Figure size 720x288 with 1 Axes>"
      ]
     },
     "metadata": {
      "needs_background": "light"
     },
     "output_type": "display_data"
    }
   ],
   "source": [
    "# Plot the ground\n",
    "x = np.linspace(-10, 160, 300)\n",
    "hills = Ground(x)\n",
    "plt.figure(figsize=[10,4])\n",
    "plt.plot(x,hills, 'k')\n",
    "plt.axis('equal')\n",
    "\n",
    "plt.plot(y[:,0], y[:,1])  # Plot ball trajectory\n",
    "plt.plot([0],[0], 'ko')   # Plot initial ball position\n",
    "plt.plot(y[-1,0], y[-1,1], 'ko')  # Plot final ball position\n",
    "\n",
    "plt.title(r'$\\theta$ = '+str(theta)+'$^\\circ$');\n",
    "plt.xlabel('Distance (m)')\n",
    "plt.ylabel('Height (m)');"
   ]
  },
  {
   "cell_type": "code",
   "execution_count": null,
   "metadata": {},
   "outputs": [],
   "source": []
  },
  {
   "cell_type": "code",
   "execution_count": null,
   "metadata": {},
   "outputs": [],
   "source": []
  }
 ],
 "metadata": {
  "kernelspec": {
   "display_name": "Python 3",
   "language": "python",
   "name": "python3"
  },
  "language_info": {
   "codemirror_mode": {
    "name": "ipython",
    "version": 3
   },
   "file_extension": ".py",
   "mimetype": "text/x-python",
   "name": "python",
   "nbconvert_exporter": "python",
   "pygments_lexer": "ipython3",
   "version": "3.7.6"
  },
  "toc": {
   "nav_menu": {},
   "number_sections": true,
   "sideBar": true,
   "skip_h1_title": false,
   "title_cell": "Table of Contents",
   "title_sidebar": "Contents",
   "toc_cell": false,
   "toc_position": {},
   "toc_section_display": true,
   "toc_window_display": false
  }
 },
 "nbformat": 4,
 "nbformat_minor": 4
}
