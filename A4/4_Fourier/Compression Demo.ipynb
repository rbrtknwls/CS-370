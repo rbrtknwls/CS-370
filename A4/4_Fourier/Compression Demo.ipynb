{
 "cells": [
  {
   "cell_type": "markdown",
   "metadata": {},
   "source": [
    "# Fourier Compression Demo"
   ]
  },
  {
   "cell_type": "code",
   "execution_count": null,
   "metadata": {},
   "outputs": [],
   "source": [
    "# Imports\n",
    "import numpy as np\n",
    "from numpy.fft import fft, ifft, fft2, ifft2, fftshift, ifftshift\n",
    "import matplotlib.pyplot as plt\n",
    "%matplotlib inline\n",
    "from scipy import ndimage, misc\n",
    "from scipy.signal import gaussian\n",
    "gray = plt.cm.gray"
   ]
  },
  {
   "cell_type": "markdown",
   "metadata": {},
   "source": [
    "## Compress a 1-D Signal"
   ]
  },
  {
   "cell_type": "code",
   "execution_count": null,
   "metadata": {},
   "outputs": [],
   "source": [
    "# Read a signal in\n",
    "img = plt.imread('pd.jpg')\n",
    "f = np.array(img[128,:,1], dtype=float)\n",
    "N = len(f)\n",
    "t = range(N)"
   ]
  },
  {
   "cell_type": "code",
   "execution_count": null,
   "metadata": {},
   "outputs": [],
   "source": [
    "plt.plot(f)\n",
    "plt.title('Original Signal');"
   ]
  },
  {
   "cell_type": "code",
   "execution_count": null,
   "metadata": {},
   "outputs": [],
   "source": [
    "# Compute the DFT\n",
    "F = fft(f)"
   ]
  },
  {
   "cell_type": "code",
   "execution_count": null,
   "metadata": {
    "scrolled": false
   },
   "outputs": [],
   "source": [
    "# Let's look at the first few Fourier coefficients.\n",
    "F[:3]"
   ]
  },
  {
   "cell_type": "code",
   "execution_count": null,
   "metadata": {},
   "outputs": [],
   "source": [
    "# Input was real-valued, so our Fourier coefficients are conjugate-symmetric.\n",
    "idx = 3\n",
    "print(F[idx])\n",
    "print(F[256-idx])"
   ]
  },
  {
   "cell_type": "code",
   "execution_count": null,
   "metadata": {},
   "outputs": [],
   "source": [
    "plt.stem(abs(F), use_line_collection=True)\n",
    "plt.title('DFT of Signal')\n",
    "plt.xlabel('Freq. Index')\n",
    "plt.ylabel('Modulus');"
   ]
  },
  {
   "cell_type": "code",
   "execution_count": null,
   "metadata": {},
   "outputs": [],
   "source": [
    "ctr = int(np.floor(N/2.))\n",
    "omega = range(-128,128)\n",
    "plt.stem(omega, fftshift(abs(F)), use_line_collection=True)\n",
    "plt.title('DFT of Signal')\n",
    "plt.xlabel('Freq. Index')\n",
    "plt.ylabel('Modulus');"
   ]
  },
  {
   "cell_type": "markdown",
   "metadata": {},
   "source": [
    "### Filter out many of the coefficients"
   ]
  },
  {
   "cell_type": "code",
   "execution_count": null,
   "metadata": {},
   "outputs": [],
   "source": [
    "T = 10\n",
    "G = F.copy()\n",
    "G[abs(ifftshift(omega))>T] = 0."
   ]
  },
  {
   "cell_type": "code",
   "execution_count": null,
   "metadata": {},
   "outputs": [],
   "source": [
    "plt.stem(omega, fftshift(abs(G)), use_line_collection=True)\n",
    "plt.title('DFT of Signal')\n",
    "plt.xlabel('Freq. Index')\n",
    "plt.ylabel('Modulus');"
   ]
  },
  {
   "cell_type": "code",
   "execution_count": null,
   "metadata": {},
   "outputs": [],
   "source": [
    "g = ifft(G)\n",
    "plt.plot(t, f, 'b')\n",
    "plt.plot(t, np.real(g), 'r')\n",
    "plt.title('Reconstruction of compressed signal')\n",
    "plt.xlabel('Spatial Index');"
   ]
  },
  {
   "cell_type": "markdown",
   "metadata": {},
   "source": [
    "### Filter out fewer of the coefficients"
   ]
  },
  {
   "cell_type": "code",
   "execution_count": null,
   "metadata": {},
   "outputs": [],
   "source": [
    "T = 40\n",
    "G = F.copy()\n",
    "G[abs(ifftshift(omega))>T] = 0."
   ]
  },
  {
   "cell_type": "code",
   "execution_count": null,
   "metadata": {},
   "outputs": [],
   "source": [
    "plt.stem(omega, fftshift(abs(G)), use_line_collection=True)\n",
    "plt.title('DFT of Signal')\n",
    "plt.xlabel('Freq. Index')\n",
    "plt.ylabel('Modulus');"
   ]
  },
  {
   "cell_type": "code",
   "execution_count": null,
   "metadata": {},
   "outputs": [],
   "source": [
    "g = ifft(G)\n",
    "plt.plot(t, f, 'b')\n",
    "plt.plot(t, np.real(g), 'r')\n",
    "plt.title('Reconstruction of compressed signal')\n",
    "plt.xlabel('Spatial Index');"
   ]
  },
  {
   "cell_type": "markdown",
   "metadata": {},
   "source": [
    "## Compress a 2-D Image"
   ]
  },
  {
   "cell_type": "code",
   "execution_count": null,
   "metadata": {},
   "outputs": [],
   "source": [
    "f = np.array(img[:,:,0])\n",
    "f = f + np.random.normal(scale=5.0, size=np.shape(f))\n",
    "plt.figure(figsize=[7,7])\n",
    "plt.imshow(f,cmap=gray);"
   ]
  },
  {
   "cell_type": "code",
   "execution_count": null,
   "metadata": {},
   "outputs": [],
   "source": [
    "F = fftshift(fft2(f))\n",
    "plt.figure(figsize=(15,7))\n",
    "plt.subplot(1,2,1); plt.imshow(abs(F), cmap='gray')\n",
    "plt.title('Modulus');\n",
    "plt.subplot(1,2,2); plt.imshow(np.log(abs(F)+1), cmap='gray')\n",
    "plt.title('log Modulus');"
   ]
  },
  {
   "cell_type": "markdown",
   "metadata": {},
   "source": [
    "### Only keep a circle of Fourier coefficients"
   ]
  },
  {
   "cell_type": "code",
   "execution_count": null,
   "metadata": {},
   "outputs": [],
   "source": [
    "r = 10.  # Radius to KEEP\n",
    "rr, cc = np.mgrid[-128:128,-128:128]\n",
    "d = np.sqrt(rr**2 + cc**2)\n",
    "G = F.copy()\n",
    "G[d>r] = 0.\n",
    "print('Remaining coefs: '+str((256.**2-sum(G.flatten()==0))/256**2*100)+'%')\n",
    "g = np.fft.ifft2( np.fft.ifftshift(G) )\n",
    "plt.figure(figsize=[15,7])\n",
    "plt.subplot(1,2,1); plt.imshow(np.log(abs(G)+1), cmap='gray')\n",
    "plt.subplot(1,2,2); plt.imshow(np.real(g), cmap='gray');"
   ]
  },
  {
   "cell_type": "code",
   "execution_count": null,
   "metadata": {},
   "outputs": [],
   "source": [
    "# What do only the high frequencies of an image look like?\n",
    "r = 80.  # Keep coefficients of frequency more than this\n",
    "G = F.copy()\n",
    "G[d<r] = 0.\n",
    "print('Remaining coefs: '+str((256.**2-sum(G.flatten()==0))/256**2*100)+'%')\n",
    "g = np.fft.ifft2( np.fft.ifftshift(G) )\n",
    "plt.figure(figsize=[15,7])\n",
    "plt.subplot(1,2,1); plt.imshow(np.log(abs(G)+1), cmap='gray')\n",
    "plt.subplot(1,2,2); plt.imshow(np.real(g), cmap='gray');"
   ]
  },
  {
   "cell_type": "code",
   "execution_count": null,
   "metadata": {},
   "outputs": [],
   "source": []
  }
 ],
 "metadata": {
  "kernelspec": {
   "display_name": "Python 3 (ipykernel)",
   "language": "python",
   "name": "python3"
  },
  "language_info": {
   "codemirror_mode": {
    "name": "ipython",
    "version": 3
   },
   "file_extension": ".py",
   "mimetype": "text/x-python",
   "name": "python",
   "nbconvert_exporter": "python",
   "pygments_lexer": "ipython3",
   "version": "3.10.10"
  },
  "toc": {
   "nav_menu": {},
   "number_sections": true,
   "sideBar": true,
   "skip_h1_title": false,
   "title_cell": "Table of Contents",
   "title_sidebar": "Contents",
   "toc_cell": false,
   "toc_position": {},
   "toc_section_display": true,
   "toc_window_display": false
  }
 },
 "nbformat": 4,
 "nbformat_minor": 1
}
