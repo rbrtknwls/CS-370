{
 "cells": [
  {
   "cell_type": "markdown",
   "metadata": {},
   "source": [
    "# Recursive FFT"
   ]
  },
  {
   "cell_type": "code",
   "execution_count": 11,
   "metadata": {},
   "outputs": [],
   "source": [
    "import numpy as np"
   ]
  },
  {
   "cell_type": "code",
   "execution_count": 12,
   "metadata": {},
   "outputs": [],
   "source": [
    "def myFFT(f):\n",
    "    N = len(f)\n",
    "    \n",
    "    if N==1:\n",
    "        return f\n",
    "    \n",
    "    if N%2!=0:\n",
    "        return []\n",
    "        \n",
    "    g = []\n",
    "    h = []\n",
    "    Wbar = np.exp(-2.j*np.pi/N)\n",
    "    for n in range(N//2):\n",
    "        g.append(   f[n] + f[n+N//2] )\n",
    "        h.append( ( f[n] - f[n+N//2] )*Wbar**n )\n",
    "    G = myFFT(g)\n",
    "    H = myFFT(h)\n",
    "    F = np.vstack((G,H)).T.flatten()\n",
    "    return F"
   ]
  },
  {
   "cell_type": "code",
   "execution_count": 13,
   "metadata": {},
   "outputs": [],
   "source": [
    "f = np.random.rand(16)"
   ]
  },
  {
   "cell_type": "code",
   "execution_count": 14,
   "metadata": {},
   "outputs": [],
   "source": [
    "F = myFFT(f)"
   ]
  },
  {
   "cell_type": "code",
   "execution_count": 15,
   "metadata": {},
   "outputs": [
    {
     "data": {
      "text/plain": [
       "array([ 6.47171029+0.j        ,  1.33697542+1.10962068j,\n",
       "       -0.12326805+0.07892296j, -0.37559818+1.5769578j ,\n",
       "        0.03223915+0.97998578j, -0.46471034-0.30451539j,\n",
       "       -0.84719699+0.28833527j, -0.49628994-0.30463533j,\n",
       "        1.48248173+0.j        , -0.49628994+0.30463533j,\n",
       "       -0.84719699-0.28833527j, -0.46471034+0.30451539j,\n",
       "        0.03223915-0.97998578j, -0.37559818-1.5769578j ,\n",
       "       -0.12326805-0.07892296j,  1.33697542-1.10962068j])"
      ]
     },
     "execution_count": 15,
     "metadata": {},
     "output_type": "execute_result"
    }
   ],
   "source": [
    "F"
   ]
  },
  {
   "cell_type": "code",
   "execution_count": 16,
   "metadata": {},
   "outputs": [
    {
     "data": {
      "text/plain": [
       "array([ 6.47171029+0.j        ,  1.33697542+1.10962068j,\n",
       "       -0.12326805+0.07892296j, -0.37559818+1.5769578j ,\n",
       "        0.03223915+0.97998578j, -0.46471034-0.30451539j,\n",
       "       -0.84719699+0.28833527j, -0.49628994-0.30463533j,\n",
       "        1.48248173+0.j        , -0.49628994+0.30463533j,\n",
       "       -0.84719699-0.28833527j, -0.46471034+0.30451539j,\n",
       "        0.03223915-0.97998578j, -0.37559818-1.5769578j ,\n",
       "       -0.12326805-0.07892296j,  1.33697542-1.10962068j])"
      ]
     },
     "execution_count": 16,
     "metadata": {},
     "output_type": "execute_result"
    }
   ],
   "source": [
    "np.fft.fft(f)"
   ]
  },
  {
   "cell_type": "code",
   "execution_count": 17,
   "metadata": {},
   "outputs": [
    {
     "data": {
      "text/plain": [
       "array([13.+0.j,  4.-1.j, -1.+0.j,  4.+1.j])"
      ]
     },
     "execution_count": 17,
     "metadata": {},
     "output_type": "execute_result"
    }
   ],
   "source": [
    "myFFT([5,4,1,3])"
   ]
  },
  {
   "cell_type": "code",
   "execution_count": 18,
   "metadata": {},
   "outputs": [
    {
     "data": {
      "text/plain": [
       "array([13.+0.j,  4.-1.j, -1.+0.j,  4.+1.j])"
      ]
     },
     "execution_count": 18,
     "metadata": {},
     "output_type": "execute_result"
    }
   ],
   "source": [
    "np.fft.fft([5,4,1,3])"
   ]
  },
  {
   "cell_type": "code",
   "execution_count": null,
   "metadata": {},
   "outputs": [],
   "source": []
  }
 ],
 "metadata": {
  "kernelspec": {
   "display_name": "Python 3",
   "language": "python",
   "name": "python3"
  },
  "language_info": {
   "codemirror_mode": {
    "name": "ipython",
    "version": 3
   },
   "file_extension": ".py",
   "mimetype": "text/x-python",
   "name": "python",
   "nbconvert_exporter": "python",
   "pygments_lexer": "ipython3",
   "version": "3.6.8"
  },
  "toc": {
   "nav_menu": {},
   "number_sections": true,
   "sideBar": true,
   "skip_h1_title": false,
   "title_cell": "Table of Contents",
   "title_sidebar": "Contents",
   "toc_cell": false,
   "toc_position": {},
   "toc_section_display": true,
   "toc_window_display": false
  }
 },
 "nbformat": 4,
 "nbformat_minor": 2
}
