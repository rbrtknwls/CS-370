{
 "cells": [
  {
   "cell_type": "markdown",
   "metadata": {},
   "source": [
    "# Fourier Series Demo"
   ]
  },
  {
   "cell_type": "code",
   "execution_count": null,
   "metadata": {},
   "outputs": [],
   "source": [
    "import numpy as np\n",
    "from numpy.fft import fft, ifft, fft2, ifft2, fftshift, ifftshift\n",
    "from copy import deepcopy\n",
    "import matplotlib.pyplot as plt"
   ]
  },
  {
   "cell_type": "markdown",
   "metadata": {
    "heading_collapsed": true
   },
   "source": [
    "## Superimposing trig functions"
   ]
  },
  {
   "cell_type": "code",
   "execution_count": null,
   "metadata": {
    "hidden": true,
    "scrolled": false
   },
   "outputs": [],
   "source": [
    "fs = [15,7]\n",
    "F1 = np.zeros(128); F2 = F1.copy(); F3 = F1.copy()\n",
    "F1[1] = 0.9\n",
    "F2[4] = 0.5\n",
    "F3[12] = 0.2\n",
    "f1 = ifft(F1)*len(F1); f2 = ifft(F2)*len(F2); f3 = ifft(F3)*len(F3); \n",
    "plt.figure(figsize=fs);\n",
    "plt.subplot(2,3,1); plt.plot(np.real(f1)); plt.axis([0,128,-2,2]);\n",
    "plt.subplot(2,3,4); plt.stem(F1); plt.axis([0,128,-1,1]);\n",
    "plt.subplot(2,3,2); plt.plot(np.real(f2)); plt.axis([0,128,-2,2])\n",
    "plt.subplot(2,3,5); plt.stem(F2); plt.axis([0,128,-1,1]);\n",
    "plt.subplot(2,3,3); plt.plot(np.real(f3)); plt.axis([0,128,-2,2])\n",
    "plt.subplot(2,3,6); plt.stem(F3); plt.axis([0,128,-1,1]);"
   ]
  },
  {
   "cell_type": "code",
   "execution_count": null,
   "metadata": {
    "hidden": true
   },
   "outputs": [],
   "source": [
    "f = f1 + f2 + f3\n",
    "F = F1 + F2 + F3\n",
    "plt.figure(figsize=fs)\n",
    "plt.subplot(1,2,1); plt.plot(np.real(f)); plt.axis([0,128,-2,2]); plt.xlabel('Time'); plt.title('Signal');\n",
    "plt.subplot(1,2,2); plt.stem(F); plt.axis([0,128,-1,1]); plt.xlabel('Frequency'); plt.title('Frequencies');"
   ]
  },
  {
   "cell_type": "markdown",
   "metadata": {
    "heading_collapsed": true
   },
   "source": [
    "## Let's approximate a function"
   ]
  },
  {
   "cell_type": "markdown",
   "metadata": {
    "hidden": true
   },
   "source": [
    "### A function to work with"
   ]
  },
  {
   "cell_type": "code",
   "execution_count": null,
   "metadata": {
    "hidden": true
   },
   "outputs": [],
   "source": [
    "# Create a step function\n",
    "f = np.zeros(128)\n",
    "b = 0\n",
    "f[b:b+64] = 1.\n",
    "plt.plot(f, 'o-')\n",
    "plt.title('Step Function')\n",
    "plt.axis((0, 127, -0.5, 1.5));"
   ]
  },
  {
   "cell_type": "markdown",
   "metadata": {
    "hidden": true
   },
   "source": [
    "### Look at its Fourier coefficients\n",
    "(actually, it's the log of the modulus of the Fourier coefficients)"
   ]
  },
  {
   "cell_type": "code",
   "execution_count": null,
   "metadata": {
    "hidden": true
   },
   "outputs": [],
   "source": [
    "F = np.fft.fft(f)\n",
    "plt.stem(np.log(np.abs(F)+1));\n",
    "#plt.stem(np.abs(F));\n",
    "#plt.stem(F);\n",
    "plt.title('Modulus of Fourier Coefficients')\n",
    "plt.ylabel('log Modulus'); plt.xlabel('Index');"
   ]
  },
  {
   "cell_type": "code",
   "execution_count": null,
   "metadata": {
    "hidden": true
   },
   "outputs": [],
   "source": [
    "F[13]"
   ]
  },
  {
   "cell_type": "code",
   "execution_count": null,
   "metadata": {
    "hidden": true
   },
   "outputs": [],
   "source": [
    "F[0]"
   ]
  },
  {
   "cell_type": "markdown",
   "metadata": {
    "hidden": true
   },
   "source": [
    "### Reconstruction f using more and more Forier coefs"
   ]
  },
  {
   "cell_type": "code",
   "execution_count": null,
   "metadata": {
    "hidden": true
   },
   "outputs": [],
   "source": [
    "def PlotSeries(F, m, plotall=False, plotFourier=True):\n",
    "    '''\n",
    "     PlotSeries(F, m, plotall=False, plotFourier=True)\n",
    "     \n",
    "     Plots a truncated Fourier series using the coefs from -m to m.\n",
    "     \n",
    "     If plotall is True, it plots the individual basis functions\n",
    "     instead of their sum.\n",
    "     \n",
    "     If plotFourier is True, it also plots the Fourier coefficients.\n",
    "    '''\n",
    "    G = deepcopy(F)\n",
    "    G[m:-m] = 0  # set all but the first (and last) m to 0\n",
    "    g = np.fft.ifft(G)  # IDFT\n",
    "    f = np.fft.ifft(F)  # True function\n",
    "    plt.figure(figsize=(10,5))\n",
    "    coefs = min(2*m+1, len(F))\n",
    "    if plotFourier:\n",
    "        plt.subplot(1,2,1);\n",
    "        plt.stem(np.log(np.abs(G)+1));\n",
    "        plt.title(str(coefs)+' Forier Coefficients');\n",
    "        plt.subplot(1,2,2);\n",
    "    plt.plot(np.real(f), '--', color='lightgray');\n",
    "    if plotall:\n",
    "        for mm in range(m):\n",
    "            GG = np.zeros(np.shape(F), dtype=complex)\n",
    "            GG[mm] = F[mm]\n",
    "            GG[-mm] = F[-mm]\n",
    "            gg = np.fft.ifft(GG)\n",
    "            plt.plot(np.real(gg), color='lightblue');\n",
    "        plt.plot(np.real(g), linewidth=3);\n",
    "    else:\n",
    "        plt.plot(np.real(g));\n",
    "    plt.title('Approximation with '+str(coefs)+' Coefficients');"
   ]
  },
  {
   "cell_type": "code",
   "execution_count": null,
   "metadata": {
    "hidden": true
   },
   "outputs": [],
   "source": [
    "PlotSeries(F, 1)"
   ]
  },
  {
   "cell_type": "code",
   "execution_count": null,
   "metadata": {
    "hidden": true
   },
   "outputs": [],
   "source": [
    "PlotSeries(F,9)"
   ]
  },
  {
   "cell_type": "code",
   "execution_count": null,
   "metadata": {
    "hidden": true
   },
   "outputs": [],
   "source": [
    "PlotSeries(F, 17)"
   ]
  },
  {
   "cell_type": "code",
   "execution_count": null,
   "metadata": {
    "hidden": true
   },
   "outputs": [],
   "source": [
    "PlotSeries(F, 30)"
   ]
  },
  {
   "cell_type": "code",
   "execution_count": null,
   "metadata": {
    "hidden": true
   },
   "outputs": [],
   "source": [
    "PlotSeries(F, 50)"
   ]
  },
  {
   "cell_type": "code",
   "execution_count": null,
   "metadata": {
    "hidden": true
   },
   "outputs": [],
   "source": [
    "PlotSeries(F, 64)"
   ]
  },
  {
   "cell_type": "code",
   "execution_count": null,
   "metadata": {
    "hidden": true
   },
   "outputs": [],
   "source": [
    "PlotSeries(F, 16, plotall=True, plotFourier=False);\n",
    "plt.title('');\n",
    "#plt.savefig('FourierSeries.pdf');"
   ]
  },
  {
   "cell_type": "code",
   "execution_count": null,
   "metadata": {
    "hidden": true
   },
   "outputs": [],
   "source": []
  }
 ],
 "metadata": {
  "kernelspec": {
   "display_name": "Python 3",
   "language": "python",
   "name": "python3"
  },
  "language_info": {
   "codemirror_mode": {
    "name": "ipython",
    "version": 3
   },
   "file_extension": ".py",
   "mimetype": "text/x-python",
   "name": "python",
   "nbconvert_exporter": "python",
   "pygments_lexer": "ipython3",
   "version": "3.6.8"
  },
  "toc": {
   "nav_menu": {},
   "number_sections": true,
   "sideBar": true,
   "skip_h1_title": false,
   "title_cell": "Table of Contents",
   "title_sidebar": "Contents",
   "toc_cell": false,
   "toc_position": {},
   "toc_section_display": true,
   "toc_window_display": false
  }
 },
 "nbformat": 4,
 "nbformat_minor": 2
}
