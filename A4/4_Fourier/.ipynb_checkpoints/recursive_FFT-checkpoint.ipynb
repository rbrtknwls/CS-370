{
 "cells": [
  {
   "cell_type": "markdown",
   "metadata": {},
   "source": [
    "# Recursive FFT"
   ]
  },
  {
   "cell_type": "code",
   "execution_count": 3,
   "metadata": {},
   "outputs": [],
   "source": [
    "import numpy as np"
   ]
  },
  {
   "cell_type": "code",
   "execution_count": 4,
   "metadata": {},
   "outputs": [],
   "source": [
    "def myFFT(f):\n",
    "    N = len(f)\n",
    "    \n",
    "    if N==1:\n",
    "        return f\n",
    "    \n",
    "    if N%2!=0:\n",
    "        return []\n",
    "        \n",
    "    g = []\n",
    "    h = []\n",
    "    Wbar = np.exp(-2.j*np.pi/N)\n",
    "    for n in range(N//2):\n",
    "        g.append(   f[n] + f[n+N//2] )\n",
    "        h.append( ( f[n] - f[n+N//2] )*Wbar**n )\n",
    "    G = myFFT(g)\n",
    "    H = myFFT(h)\n",
    "    F = np.vstack((G,H)).T.flatten()\n",
    "    return F"
   ]
  },
  {
   "cell_type": "code",
   "execution_count": 5,
   "metadata": {},
   "outputs": [],
   "source": [
    "f = np.random.rand(16)"
   ]
  },
  {
   "cell_type": "code",
   "execution_count": 6,
   "metadata": {},
   "outputs": [],
   "source": [
    "F = myFFT(f)"
   ]
  },
  {
   "cell_type": "code",
   "execution_count": 7,
   "metadata": {},
   "outputs": [
    {
     "data": {
      "text/plain": [
       "array([ 9.3144112 +0.j        ,  0.64671514-0.47490875j,\n",
       "       -0.38484277-1.32310167j,  0.58764488+0.25054596j,\n",
       "        0.16465781+0.54317263j,  0.17308163-0.46217907j,\n",
       "        0.4596855 +0.61993249j, -2.20498277+0.28763313j,\n",
       "       -1.01937997+0.j        , -2.20498277-0.28763313j,\n",
       "        0.4596855 -0.61993249j,  0.17308163+0.46217907j,\n",
       "        0.16465781-0.54317263j,  0.58764488-0.25054596j,\n",
       "       -0.38484277+1.32310167j,  0.64671514+0.47490875j])"
      ]
     },
     "execution_count": 7,
     "metadata": {},
     "output_type": "execute_result"
    }
   ],
   "source": [
    "F"
   ]
  },
  {
   "cell_type": "code",
   "execution_count": 8,
   "metadata": {},
   "outputs": [
    {
     "data": {
      "text/plain": [
       "array([ 9.3144112 +0.j        ,  0.64671514-0.47490875j,\n",
       "       -0.38484277-1.32310167j,  0.58764488+0.25054596j,\n",
       "        0.16465781+0.54317263j,  0.17308163-0.46217907j,\n",
       "        0.4596855 +0.61993249j, -2.20498277+0.28763313j,\n",
       "       -1.01937997+0.j        , -2.20498277-0.28763313j,\n",
       "        0.4596855 -0.61993249j,  0.17308163+0.46217907j,\n",
       "        0.16465781-0.54317263j,  0.58764488-0.25054596j,\n",
       "       -0.38484277+1.32310167j,  0.64671514+0.47490875j])"
      ]
     },
     "execution_count": 8,
     "metadata": {},
     "output_type": "execute_result"
    }
   ],
   "source": [
    "np.fft.fft(f)"
   ]
  },
  {
   "cell_type": "code",
   "execution_count": 9,
   "metadata": {},
   "outputs": [
    {
     "data": {
      "text/plain": [
       "array([13.+0.j,  4.-1.j, -1.+0.j,  4.+1.j])"
      ]
     },
     "execution_count": 9,
     "metadata": {},
     "output_type": "execute_result"
    }
   ],
   "source": [
    "myFFT([5,4,1,3])"
   ]
  },
  {
   "cell_type": "code",
   "execution_count": 10,
   "metadata": {},
   "outputs": [
    {
     "data": {
      "text/plain": [
       "array([13.+0.j,  4.-1.j, -1.+0.j,  4.+1.j])"
      ]
     },
     "execution_count": 10,
     "metadata": {},
     "output_type": "execute_result"
    }
   ],
   "source": [
    "np.fft.fft([5,4,1,3])"
   ]
  },
  {
   "cell_type": "code",
   "execution_count": null,
   "metadata": {},
   "outputs": [],
   "source": []
  }
 ],
 "metadata": {
  "kernelspec": {
   "display_name": "Python 3",
   "language": "python",
   "name": "python3"
  },
  "language_info": {
   "codemirror_mode": {
    "name": "ipython",
    "version": 3
   },
   "file_extension": ".py",
   "mimetype": "text/x-python",
   "name": "python",
   "nbconvert_exporter": "python",
   "pygments_lexer": "ipython3",
   "version": "3.6.8"
  },
  "toc": {
   "nav_menu": {},
   "number_sections": true,
   "sideBar": true,
   "skip_h1_title": false,
   "title_cell": "Table of Contents",
   "title_sidebar": "Contents",
   "toc_cell": false,
   "toc_position": {},
   "toc_section_display": true,
   "toc_window_display": false
  }
 },
 "nbformat": 4,
 "nbformat_minor": 2
}
