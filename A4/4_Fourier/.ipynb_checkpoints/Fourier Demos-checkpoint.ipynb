{
 "cells": [
  {
   "cell_type": "markdown",
   "metadata": {},
   "source": [
    "# Properties of the Fourier Transform"
   ]
  },
  {
   "cell_type": "markdown",
   "metadata": {
    "heading_collapsed": true
   },
   "source": [
    "## Preliminaries"
   ]
  },
  {
   "cell_type": "code",
   "execution_count": null,
   "metadata": {
    "hidden": true
   },
   "outputs": [],
   "source": [
    "import numpy as np\n",
    "from numpy.fft import fft, ifft, fft2, ifft2, fftshift, ifftshift\n",
    "import matplotlib.pyplot as plt\n",
    "%matplotlib inline\n",
    "plt.ion()\n",
    "from scipy import ndimage, misc\n",
    "from scipy.signal import gaussian"
   ]
  },
  {
   "cell_type": "code",
   "execution_count": null,
   "metadata": {
    "hidden": true
   },
   "outputs": [],
   "source": [
    "def Gaussian2D(dims, std):\n",
    "    '''\n",
    "        Creates an array containing a 2-D Gaussian function, with mean\n",
    "        at mu, and standard deviation std.\n",
    "\n",
    "        Inputs:\n",
    "          dims is a 2-vector containing the number of rows and columns\n",
    "          std is the standard deviation\n",
    "    '''\n",
    "    nr, nc = dims\n",
    "    rr, cc = np.mgrid[0:nr,0:nc]\n",
    "    ctr = GetCentre(rr)\n",
    "    temp1 = rr - ctr[0]\n",
    "    temp2 = cc - ctr[1]\n",
    "    temp1 = np.exp(-temp1**2/std)\n",
    "    temp2 = np.exp(-temp2**2/std)\n",
    "    blah = temp1*temp2\n",
    "    return blah/sum(blah.flatten())\n",
    "\n",
    "def GetCentre(f):\n",
    "    return np.array(np.floor(np.array(np.shape(f))/2.), dtype=int)"
   ]
  },
  {
   "cell_type": "code",
   "execution_count": null,
   "metadata": {
    "hidden": true
   },
   "outputs": [],
   "source": [
    "f = np.array(plt.imread('pd.jpg')[:,:,0], dtype=float)\n",
    "plt.imshow(f,cmap='gray');"
   ]
  },
  {
   "cell_type": "markdown",
   "metadata": {
    "heading_collapsed": true
   },
   "source": [
    "## View the Fourier coefficients"
   ]
  },
  {
   "cell_type": "code",
   "execution_count": null,
   "metadata": {
    "hidden": true
   },
   "outputs": [],
   "source": [
    "F = fft2(f)"
   ]
  },
  {
   "cell_type": "code",
   "execution_count": null,
   "metadata": {
    "hidden": true
   },
   "outputs": [],
   "source": [
    "plt.figure(figsize=[10,10]);\n",
    "plt.imshow(abs(F), cmap='gray');"
   ]
  },
  {
   "cell_type": "code",
   "execution_count": null,
   "metadata": {
    "hidden": true
   },
   "outputs": [],
   "source": [
    "plt.imshow(np.log(abs(F)), cmap='gray');"
   ]
  },
  {
   "cell_type": "markdown",
   "metadata": {
    "heading_collapsed": true
   },
   "source": [
    "## Shift it so the DC is in the centre"
   ]
  },
  {
   "cell_type": "code",
   "execution_count": null,
   "metadata": {
    "hidden": true
   },
   "outputs": [],
   "source": [
    "F = fftshift(fft2(f))"
   ]
  },
  {
   "cell_type": "code",
   "execution_count": null,
   "metadata": {
    "hidden": true
   },
   "outputs": [],
   "source": [
    "plt.figure(figsize=[10,5]);\n",
    "plt.subplot(1,2,1); plt.imshow(abs(F), cmap='gray');\n",
    "plt.subplot(1,2,2); plt.imshow(np.log(abs(F)), cmap='gray');"
   ]
  },
  {
   "cell_type": "markdown",
   "metadata": {
    "heading_collapsed": true
   },
   "source": [
    "## 2D DFT"
   ]
  },
  {
   "cell_type": "code",
   "execution_count": null,
   "metadata": {
    "hidden": true
   },
   "outputs": [],
   "source": [
    "# A 1D Fourier basis vector\n",
    "plt.clf()\n",
    "F = np.zeros(128)\n",
    "F[3] = 1.\n",
    "#F[10] = 0.5\n",
    "f = ifft(F)\n",
    "plt.plot(np.real(f), 'o');"
   ]
  },
  {
   "cell_type": "code",
   "execution_count": null,
   "metadata": {
    "hidden": true
   },
   "outputs": [],
   "source": [
    "# A 2D Fourier vasis vector\n",
    "F = np.zeros([256,256])\n",
    "F1 = F.copy()\n",
    "F1[0,3] = 1.\n",
    "f1 = ifft2(F1)\n",
    "plt.figure(figsize=[18,9])\n",
    "plt.subplot(1,2,1)\n",
    "plt.imshow(F1, cmap='gray')\n",
    "plt.subplot(1,2,2)\n",
    "plt.imshow(np.real(f1), cmap='gray');"
   ]
  },
  {
   "cell_type": "code",
   "execution_count": null,
   "metadata": {
    "hidden": true
   },
   "outputs": [],
   "source": [
    "# A 2D Fourier vasis vector\n",
    "F = np.zeros([256,256])\n",
    "F1 = F.copy()\n",
    "F1[4,3] = 1.0\n",
    "f1 = ifft2(F1)\n",
    "plt.figure(figsize=[18,9])\n",
    "plt.subplot(1,2,1)\n",
    "plt.imshow(F1, cmap='gray')\n",
    "plt.subplot(1,2,2)\n",
    "plt.imshow(np.real(f1), cmap='gray');"
   ]
  },
  {
   "cell_type": "code",
   "execution_count": null,
   "metadata": {
    "hidden": true
   },
   "outputs": [],
   "source": [
    "F1 = F.copy(); F1[3,5] = 1.0\n",
    "F2 = F.copy(); F2[2,-3] = 2.0\n",
    "f1 = ifft2(F1)\n",
    "f2 = ifft2(F2)\n",
    "plt.figure(figsize=[18,12]); MN = 256.**2; rg = 3.;\n",
    "plt.subplot(2,3,1); plt.imshow(np.abs(F1), vmin=-rg, vmax=rg, cmap='gray'); plt.title('F1')\n",
    "plt.subplot(2,3,4); plt.imshow(np.real(f1), vmin=-rg/MN, vmax=rg/MN, cmap='gray'); plt.title('f1')\n",
    "plt.subplot(2,3,3); plt.imshow(np.abs(F2), vmin=-rg, vmax=rg, cmap='gray'); plt.title('F2')\n",
    "plt.subplot(2,3,6); plt.imshow(np.real(f2), vmin=-rg/MN, vmax=rg/MN, cmap='gray'); plt.title('f2')\n",
    "plt.subplot(2,3,2); plt.imshow(np.abs(F1+F2), vmin=-rg, vmax=rg, cmap='gray'); plt.title('F1+F2')\n",
    "plt.subplot(2,3,5); plt.imshow(np.real(f1+f2), vmin=-rg/MN, vmax=rg/MN, cmap='gray'); plt.title('f1+f2');"
   ]
  },
  {
   "cell_type": "markdown",
   "metadata": {
    "heading_collapsed": true
   },
   "source": [
    "## Convolution"
   ]
  },
  {
   "cell_type": "code",
   "execution_count": null,
   "metadata": {
    "hidden": true
   },
   "outputs": [],
   "source": [
    "rr, cc = np.mgrid[-128:128, -128:128]"
   ]
  },
  {
   "cell_type": "markdown",
   "metadata": {
    "hidden": true
   },
   "source": [
    "### Try a circular kernel"
   ]
  },
  {
   "cell_type": "code",
   "execution_count": null,
   "metadata": {
    "hidden": true
   },
   "outputs": [],
   "source": [
    "d = np.sqrt(rr**2 + cc**2)\n",
    "circle = np.zeros([256,256])\n",
    "circle_mask = d<15\n",
    "circle[circle_mask] = 1.\n",
    "circle = ifftshift(circle)\n",
    "circle[0:22,0:5] = 1.\n",
    "plt.figure(figsize=(8,4))\n",
    "plt.subplot(1,2,1); plt.imshow(fftshift(circle), cmap='gray'); plt.axis('off'); plt.title('Shifted');\n",
    "plt.subplot(1,2,2); plt.imshow(circle, cmap='gray'); plt.title('Unshifted');"
   ]
  },
  {
   "cell_type": "code",
   "execution_count": null,
   "metadata": {
    "hidden": true
   },
   "outputs": [],
   "source": [
    "# Create an image with just a few non-zero pixels.\n",
    "f = np.zeros([256,256])\n",
    "f[50,100] = 1.0\n",
    "f[48,110] = 2.\n",
    "plt.figure(figsize=(10,10))\n",
    "plt.imshow(f, cmap='gray');"
   ]
  },
  {
   "cell_type": "code",
   "execution_count": null,
   "metadata": {
    "hidden": true,
    "scrolled": false
   },
   "outputs": [],
   "source": [
    "g = ifft2( fft2(f) * fft2(circle))\n",
    "\n",
    "plt.figure(figsize=(8,8))\n",
    "plt.imshow(abs(g), cmap='gray'); plt.axis('off');\n",
    "plt.title('Circle convolved with impulses');"
   ]
  },
  {
   "cell_type": "code",
   "execution_count": null,
   "metadata": {
    "hidden": true,
    "scrolled": true
   },
   "outputs": [],
   "source": [
    "f = plt.imread('pd.jpg')\n",
    "f = f[:,:,0]\n",
    "plt.imshow(f, cmap='gray');"
   ]
  },
  {
   "cell_type": "code",
   "execution_count": null,
   "metadata": {
    "hidden": true,
    "scrolled": false
   },
   "outputs": [],
   "source": [
    "g = ifft2( fft2(f) * fft2(circle))\n",
    "\n",
    "plt.figure(figsize=(8,8))\n",
    "plt.imshow(abs(g), cmap='gray'); plt.axis('off');\n",
    "plt.title('Circle convolved with image');"
   ]
  },
  {
   "cell_type": "markdown",
   "metadata": {
    "hidden": true
   },
   "source": [
    "### Or, try a Gaussian edge-detector kernel"
   ]
  },
  {
   "cell_type": "code",
   "execution_count": null,
   "metadata": {
    "hidden": true
   },
   "outputs": [],
   "source": [
    "# Make and edge detector\n",
    "g = Gaussian2D([256,256], 20)\n",
    "G = ifftshift( fft2(fftshift(g)) )\n",
    "ramp = np.outer(range(256), range(256)) - 128**2\n",
    "H = G * ramp*1.j\n",
    "circle = np.real( ifft2( fftshift(H) ) )\n",
    "plt.figure(figsize=[8,5]);\n",
    "plt.subplot(1,2,1); plt.imshow(fftshift(circle), cmap='gray'); plt.axis('off'); plt.title('Edge Kernel (Shifted)');\n",
    "plt.subplot(1,2,2); plt.imshow(circle, cmap='gray'); plt.title('Edge Kernel (Unshifted)');"
   ]
  },
  {
   "cell_type": "code",
   "execution_count": null,
   "metadata": {
    "hidden": true
   },
   "outputs": [],
   "source": [
    "f = plt.imread('pd.jpg')\n",
    "f = f[:,:,0]"
   ]
  },
  {
   "cell_type": "code",
   "execution_count": null,
   "metadata": {
    "hidden": true
   },
   "outputs": [],
   "source": [
    "F = fftshift( fft2( f ) )"
   ]
  },
  {
   "cell_type": "code",
   "execution_count": null,
   "metadata": {
    "hidden": true,
    "scrolled": true
   },
   "outputs": [],
   "source": [
    "plt.figure(figsize=[10,20])\n",
    "plt.subplot(1,2,1)\n",
    "plt.imshow(np.log(abs(F)+1), cmap='gray'); plt.title('Shifted DFT (log-modulus)');\n",
    "plt.subplot(1,2,2)\n",
    "plt.imshow(f, cmap='gray');"
   ]
  },
  {
   "cell_type": "code",
   "execution_count": null,
   "metadata": {
    "hidden": true
   },
   "outputs": [],
   "source": [
    "g = fftshift( ifft2( fft2(ifftshift(f)) * fft2(circle)) )\n",
    "\n",
    "plt.figure(figsize=(16,8))\n",
    "plt.subplot(1,2,1);\n",
    "G = fftshift(fft2(ifftshift(g)))\n",
    "plt.imshow(np.abs(G), cmap='gray');\n",
    "plt.title('DFT(Edge Kernel) x DFT(Image)');\n",
    "plt.subplot(1,2,2); plt.imshow(abs(g), cmap='gray'); plt.axis('off');\n",
    "plt.title('Edge Kernel convolved with image');"
   ]
  },
  {
   "cell_type": "markdown",
   "metadata": {
    "heading_collapsed": true
   },
   "source": [
    "## Filtering in the frequency domain"
   ]
  },
  {
   "cell_type": "code",
   "execution_count": null,
   "metadata": {
    "hidden": true
   },
   "outputs": [],
   "source": [
    "thresh = 10\n",
    "rows, cols = np.shape(f)\n",
    "ctr = np.floor(np.array(np.shape(f))/2) +1\n",
    "rr, cc = np.mgrid[-ctr[0]:(rows-ctr[0]),\n",
    "                  -ctr[1]:(cols-ctr[1])]"
   ]
  },
  {
   "cell_type": "code",
   "execution_count": null,
   "metadata": {
    "hidden": true
   },
   "outputs": [],
   "source": [
    "def PlotFiltImg(F, filt):\n",
    "    F_filt = (filt)*F\n",
    "    f_filt = ifft2( fftshift(F_filt) )\n",
    "    plt.figure(figsize=[15,15])\n",
    "    plt.subplot(2,2,1); plt.imshow(f, cmap='gray');\n",
    "    plt.subplot(2,2,3); plt.imshow(np.log(abs(F)+1), cmap='gray')\n",
    "    plt.subplot(2,2,4); plt.imshow(np.log(abs(F_filt)+1), cmap='gray')\n",
    "    plt.subplot(2,2,2); plt.imshow(np.real(f_filt), cmap='gray');"
   ]
  },
  {
   "cell_type": "code",
   "execution_count": null,
   "metadata": {
    "hidden": true
   },
   "outputs": [],
   "source": [
    "filt_mask = abs(cc)<thresh\n",
    "filt = np.zeros(np.shape(F))\n",
    "filt[filt_mask] = 1.0\n",
    "PlotFiltImg(F, filt)"
   ]
  },
  {
   "cell_type": "code",
   "execution_count": null,
   "metadata": {
    "hidden": true
   },
   "outputs": [],
   "source": [
    "filt_mask = abs(rr)<thresh\n",
    "filt = np.zeros(np.shape(F))\n",
    "filt[filt_mask] = 1.0\n",
    "PlotFiltImg(F, filt)"
   ]
  },
  {
   "cell_type": "code",
   "execution_count": null,
   "metadata": {
    "hidden": true
   },
   "outputs": [],
   "source": [
    "filt_mask = np.sqrt(rr**2 + cc**2)<thresh\n",
    "filt = np.zeros(np.shape(F))\n",
    "filt[filt_mask] = 1.0\n",
    "PlotFiltImg(F, filt)"
   ]
  },
  {
   "cell_type": "markdown",
   "metadata": {
    "hidden": true
   },
   "source": [
    "Applying that filter in the frequency domain is the same as convolving the image with the kernel below, attained by taking the IDFT of the filter kernel."
   ]
  },
  {
   "cell_type": "code",
   "execution_count": null,
   "metadata": {
    "hidden": true,
    "scrolled": true
   },
   "outputs": [],
   "source": [
    "Filt = fftshift(ifft2(ifftshift(filt)))\n",
    "plt.figure()\n",
    "plt.subplot(1,2,1); plt.imshow(filt, cmap='gray'); plt.title('DFT of filter')\n",
    "plt.subplot(1,2,2); plt.imshow(np.log(abs(Filt)+1), cmap='gray'); plt.title('Spatial filter');"
   ]
  },
  {
   "cell_type": "markdown",
   "metadata": {
    "heading_collapsed": true
   },
   "source": [
    "## What happens if we take the DFT twice in a row?"
   ]
  },
  {
   "cell_type": "code",
   "execution_count": null,
   "metadata": {
    "hidden": true
   },
   "outputs": [],
   "source": [
    "plt.imshow(f, cmap='gray');"
   ]
  },
  {
   "cell_type": "code",
   "execution_count": null,
   "metadata": {
    "hidden": true
   },
   "outputs": [],
   "source": [
    "F = fft2(f)\n",
    "plt.imshow(np.log(abs(F)), cmap='gray');"
   ]
  },
  {
   "cell_type": "code",
   "execution_count": null,
   "metadata": {
    "hidden": true
   },
   "outputs": [],
   "source": [
    "G = fft2(F)\n",
    "plt.imshow(np.real(G), cmap='gray');"
   ]
  },
  {
   "cell_type": "markdown",
   "metadata": {
    "heading_collapsed": true
   },
   "source": [
    "## Scaling\n",
    "You can scale an image using the DFT by padding in cropping in the two domains (time/space, and frequency)."
   ]
  },
  {
   "cell_type": "code",
   "execution_count": null,
   "metadata": {
    "hidden": true
   },
   "outputs": [],
   "source": [
    "# We will magnify an image by padding its DFT coefficients, and then cropping the image\n",
    "# that results for the IDFT of those padded coefs.\n",
    "scale_factor = 2\n",
    "padamt = int(rows*(scale_factor-1.)/2.)\n",
    "G = np.pad(ifftshift(F), (padamt,), mode='constant')\n",
    "g512 = ifft2( ifftshift(G) )\n",
    "if padamt!=0:\n",
    "    g = g512[padamt:-padamt,padamt:-padamt]\n",
    "else:\n",
    "    g = g512"
   ]
  },
  {
   "cell_type": "code",
   "execution_count": null,
   "metadata": {
    "hidden": true
   },
   "outputs": [],
   "source": [
    "plt.figure(1,figsize=[15,15])\n",
    "plt.clf()\n",
    "plt.subplot(1,2,1)\n",
    "plt.imshow(f, cmap='gray'); plt.title('Original')\n",
    "plt.subplot(1,2,2)\n",
    "plt.imshow(np.real(g), cmap='gray'); plt.title('Scaled x'+str(scale_factor));"
   ]
  },
  {
   "cell_type": "markdown",
   "metadata": {
    "heading_collapsed": true
   },
   "source": [
    "## Fourier Shift Theorem\n",
    "You can shift an image by adding a linear 'ramp' to the phase portion of its DFT coefficients."
   ]
  },
  {
   "cell_type": "code",
   "execution_count": null,
   "metadata": {
    "hidden": true
   },
   "outputs": [],
   "source": [
    "dr = 20\n",
    "dc = 12\n",
    "ramp = -2.*np.pi*1j*(cc*dc + rr*dr)/rows\n",
    "ramp = np.roll(np.roll(ramp,-1, axis=0),-1, axis=1)\n",
    "wave = np.exp(ramp)\n",
    "plt.figure()\n",
    "plt.imshow(np.imag(ramp))\n",
    "plt.title('Ramp in imaginary part');"
   ]
  },
  {
   "cell_type": "code",
   "execution_count": null,
   "metadata": {
    "hidden": true
   },
   "outputs": [],
   "source": [
    "# Make sure the centre pixel of the ramp has a phase of zero.\n",
    "ctr = int(np.floor(256/2))\n",
    "print('This should be zero -> '+str(ramp[ctr,ctr]))\n",
    "print('This is the DC of our image -> '+str(F[ctr,ctr]))  # This should be the DC of our image."
   ]
  },
  {
   "cell_type": "code",
   "execution_count": null,
   "metadata": {
    "hidden": true
   },
   "outputs": [],
   "source": [
    "G = wave * fftshift(F)\n",
    "g = ifft2(ifftshift(G))\n",
    "\n",
    "plt.figure(1,figsize=[15,15])\n",
    "plt.subplot(1,2,1)\n",
    "plt.imshow(f, cmap='gray'); plt.title('Original')\n",
    "plt.subplot(1,2,2)\n",
    "plt.imshow(np.real(g), cmap='gray');\n",
    "plt.title('Shifted (down,right)=('+str(dr)+','+str(dc)+')');"
   ]
  },
  {
   "cell_type": "markdown",
   "metadata": {
    "hidden": true
   },
   "source": [
    "<a href=\"https://youtu.be/o3Q7JYBkOHU\">Pendulum synchronization video (YouTube)</a>"
   ]
  },
  {
   "cell_type": "markdown",
   "metadata": {
    "heading_collapsed": true
   },
   "source": [
    "## Phase Correlation\n",
    "You can detect a shift between two similar images by looking for a ramp in their phase difference. Or, you can take that phase difference and take the IDFT of it, and look for a spike. The offset of the spike from the origin gives the relative shift."
   ]
  },
  {
   "cell_type": "code",
   "execution_count": null,
   "metadata": {
    "hidden": true
   },
   "outputs": [],
   "source": [
    "g = ndimage.shift(f,[dr,dc]) + np.random.normal(0.0, 5, size=np.shape(f))\n",
    "G = fft2(g)\n",
    "F = fft2(f)\n",
    "H = G/F\n",
    "plt.imshow(np.real(fftshift(H)), cmap='gray', vmin=-4, vmax=4);"
   ]
  },
  {
   "cell_type": "code",
   "execution_count": null,
   "metadata": {
    "hidden": true
   },
   "outputs": [],
   "source": [
    "h = ifft2(H)\n",
    "plt.imshow(np.real(h), cmap='gray');"
   ]
  },
  {
   "cell_type": "code",
   "execution_count": null,
   "metadata": {
    "hidden": true
   },
   "outputs": [],
   "source": [
    "# Where does that lonely pixel occur?\n",
    "coords = np.unravel_index(np.argmax(np.real(h)), h.shape)\n",
    "print('Bright pixel at '+str(coords))\n",
    "print('True shift was '+str((dr,dc)))"
   ]
  },
  {
   "cell_type": "markdown",
   "metadata": {
    "heading_collapsed": true
   },
   "source": [
    "## Rotation\n",
    "You can also rotate an image by simply applying the same rotation to the frequency domain."
   ]
  },
  {
   "cell_type": "code",
   "execution_count": null,
   "metadata": {
    "hidden": true
   },
   "outputs": [],
   "source": [
    "theta = 30\n",
    "f = plt.imread('pd.jpg')\n",
    "f = np.array(f[:,:,0], dtype=float)"
   ]
  },
  {
   "cell_type": "code",
   "execution_count": null,
   "metadata": {
    "hidden": true
   },
   "outputs": [],
   "source": [
    "padamt = int(rows/2)\n",
    "#padamt = 0"
   ]
  },
  {
   "cell_type": "code",
   "execution_count": null,
   "metadata": {
    "hidden": true
   },
   "outputs": [],
   "source": [
    "ff = f\n",
    "ff = np.pad(f, (padamt,), mode='constant')\n",
    "FF = fftshift( fft2( ifftshift(ff) ) )"
   ]
  },
  {
   "cell_type": "code",
   "execution_count": null,
   "metadata": {
    "hidden": true
   },
   "outputs": [],
   "source": [
    "# Apply rotation to the Fourier coefficients\n",
    "Gr = ndimage.rotate(np.real(FF), theta, reshape=False, order=1)\n",
    "Gi = ndimage.rotate(np.imag(FF), theta, reshape=False, order=1)\n",
    "G = Gr + 1j*Gi"
   ]
  },
  {
   "cell_type": "code",
   "execution_count": null,
   "metadata": {
    "hidden": true
   },
   "outputs": [],
   "source": [
    "g = fftshift( ifft2( ifftshift(G) ) )\n",
    "if padamt!=0:\n",
    "    g = g[padamt:-padamt,padamt:-padamt]"
   ]
  },
  {
   "cell_type": "code",
   "execution_count": null,
   "metadata": {
    "hidden": true
   },
   "outputs": [],
   "source": [
    "plt.figure(figsize=[15,15])\n",
    "plt.subplot(1,2,1)\n",
    "plt.imshow(f, cmap='gray'); plt.title('Original')\n",
    "plt.subplot(1,2,2)\n",
    "plt.imshow(np.real(g), cmap='gray'); \n",
    "plt.title('Rotated by '+str(theta)+' degrees');"
   ]
  },
  {
   "cell_type": "markdown",
   "metadata": {
    "heading_collapsed": true
   },
   "source": [
    "## Fourier Projection Theorem\n",
    "The Fourier projection theorem is the basis for reconstruction in Computed Tomography (CT) scans."
   ]
  },
  {
   "cell_type": "code",
   "execution_count": null,
   "metadata": {
    "hidden": true
   },
   "outputs": [],
   "source": [
    "f = plt.imread('ct.jpg')\n",
    "f1 = np.array(f[:,:,0], dtype=float)"
   ]
  },
  {
   "cell_type": "code",
   "execution_count": null,
   "metadata": {
    "hidden": true
   },
   "outputs": [],
   "source": [
    "plt.figure(1, figsize=(10,10))\n",
    "plt.clf()\n",
    "plt.subplot(2,2,1)\n",
    "plt.imshow(f1, cmap=plt.cm.gray);\n",
    "\n",
    "px = np.sum(f1,axis=0)\n",
    "plt.subplot(2,2,3)\n",
    "plt.plot(px)\n",
    "plt.axis('tight');\n",
    "\n",
    "F = fftshift(fft2(f1))\n",
    "plt.subplot(2,2,2)\n",
    "Fnice = np.log(abs(F)+1)\n",
    "plt.imshow(Fnice, cmap=plt.cm.gray);\n",
    "\n",
    "ctr = GetCentre(F)\n",
    "Fx = F[ctr[0],:]\n",
    "plt.plot([1,254],[128,128], 'r--')\n",
    "plt.axis([0,255,255,0])\n",
    "\n",
    "plt.subplot(2,2,4)\n",
    "plt.plot(np.log(abs(Fx)+1), 'r')\n",
    "plt.axis('tight');\n",
    "\n",
    "Px = fftshift( np.fft.fft(px) )\n",
    "#plt.subplot(2,2,4)\n",
    "plt.plot(np.log(abs(Px)+1), 'b--');"
   ]
  },
  {
   "cell_type": "markdown",
   "metadata": {
    "heading_collapsed": true
   },
   "source": [
    "## Aliasing in images"
   ]
  },
  {
   "cell_type": "code",
   "execution_count": null,
   "metadata": {
    "hidden": true
   },
   "outputs": [],
   "source": [
    "x, y = np.mgrid[0:256,0:256]\n",
    "f = np.sin(2.*np.pi*x/256*40)\n",
    "#f = ndimage.imread('pd.jpg')\n",
    "plt.figure(figsize=(10,5))\n",
    "plt.clf()\n",
    "plt.subplot(1,3,1)\n",
    "plt.imshow(f, cmap='gray');\n",
    "c = plt.axis()\n",
    "plt.title('Original');\n",
    "\n",
    "g = f[::5,::5]  # every fifth sample\n",
    "plt.subplot(1,3,2)\n",
    "plt.imshow(g, cmap='gray'); #plt.axis(c);\n",
    "plt.title('Subsampled');\n",
    "\n",
    "plt.subplot(1,3,3);\n",
    "plt.imshow(g, cmap='gray'); plt.axis(c);\n",
    "plt.title('Subsampled');"
   ]
  },
  {
   "cell_type": "code",
   "execution_count": null,
   "metadata": {
    "hidden": true
   },
   "outputs": [],
   "source": [
    "q = plt.imread('bricks.jpg')\n",
    "q = np.array(q[:,:,0], dtype=float)\n",
    "nr, nc = np.shape(q)"
   ]
  },
  {
   "cell_type": "code",
   "execution_count": null,
   "metadata": {
    "hidden": true
   },
   "outputs": [],
   "source": [
    "plt.figure(figsize=(15,7));\n",
    "plt.subplot(1,2,1)\n",
    "plt.imshow(q, cmap='gray', interpolation='none')\n",
    "plt.title('Original');\n",
    "\n",
    "q_small = q[::5,::5]\n",
    "qsr, qsc = np.shape(q_small)\n",
    "plt.subplot(1,2,2)\n",
    "plt.imshow(q_small, cmap='gray', interpolation='nearest')\n",
    "plt.title('Subsampled');"
   ]
  },
  {
   "cell_type": "code",
   "execution_count": null,
   "metadata": {
    "hidden": true
   },
   "outputs": [],
   "source": [
    "plt.figure(figsize=(15,7));\n",
    "plt.subplot(1,2,1)\n",
    "plt.imshow(q, cmap='gray', interpolation='none')\n",
    "plt.title('Original');\n",
    "\n",
    "q_small = q[::5,::5]\n",
    "qsr, qsc = np.shape(q_small)\n",
    "\n",
    "g = Gaussian2D(q.shape, 10)\n",
    "Q = fftshift( fft2(q) )\n",
    "G = fftshift( fft2(fftshift(g)) )\n",
    "h = ifft2(ifftshift(Q*G))\n",
    "\n",
    "plt.subplot(1,2,2)\n",
    "plt.imshow(np.real(h[::5,::5]), cmap='gray', interpolation='nearest')\n",
    "plt.title('Filtered ');"
   ]
  },
  {
   "cell_type": "code",
   "execution_count": null,
   "metadata": {
    "hidden": true
   },
   "outputs": [],
   "source": []
  }
 ],
 "metadata": {
  "kernelspec": {
   "display_name": "Python 3",
   "language": "python",
   "name": "python3"
  },
  "language_info": {
   "codemirror_mode": {
    "name": "ipython",
    "version": 3
   },
   "file_extension": ".py",
   "mimetype": "text/x-python",
   "name": "python",
   "nbconvert_exporter": "python",
   "pygments_lexer": "ipython3",
   "version": "3.7.4"
  },
  "toc": {
   "nav_menu": {},
   "number_sections": true,
   "sideBar": true,
   "skip_h1_title": false,
   "title_cell": "Table of Contents",
   "title_sidebar": "Contents",
   "toc_cell": false,
   "toc_position": {},
   "toc_section_display": true,
   "toc_window_display": false
  }
 },
 "nbformat": 4,
 "nbformat_minor": 2
}
