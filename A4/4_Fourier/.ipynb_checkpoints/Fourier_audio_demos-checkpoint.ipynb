{
 "cells": [
  {
   "cell_type": "markdown",
   "metadata": {},
   "source": [
    "# Fourier Demos with Audio"
   ]
  },
  {
   "cell_type": "code",
   "execution_count": null,
   "metadata": {},
   "outputs": [],
   "source": [
    "import numpy as np\n",
    "from IPython.display import Audio\n",
    "import scipy.io.wavfile\n",
    "import matplotlib.pyplot as plt\n",
    "%matplotlib inline\n",
    "from numpy.fft import fft, ifft, fft2, ifft2, fftshift, ifftshift\n",
    "#from scipy import ndimage, misc\n",
    "from scipy.signal import gaussian\n",
    "from joSigProc import *"
   ]
  },
  {
   "cell_type": "markdown",
   "metadata": {
    "heading_collapsed": true
   },
   "source": [
    "# Examples of Frequency Modulation (filtering)"
   ]
  },
  {
   "cell_type": "markdown",
   "metadata": {
    "hidden": true
   },
   "source": [
    "## Frequency Filtering in Music"
   ]
  },
  {
   "cell_type": "code",
   "execution_count": null,
   "metadata": {
    "hidden": true
   },
   "outputs": [],
   "source": [
    "# Widening filter on voice\n",
    "Omega, f = scipy.io.wavfile.read('Stamp.wav')\n",
    "Audio(f[15*Omega:32*Omega,0], rate=Omega)\n",
    "#scipy.io.wavfile.write('Stamp_15-32.wav', Omega, f[15*Omega:32*Omega,0])"
   ]
  },
  {
   "cell_type": "code",
   "execution_count": null,
   "metadata": {
    "hidden": true
   },
   "outputs": [],
   "source": [
    "Omega, f = scipy.io.wavfile.read('Stamp.wav')\n",
    "f1 = f[32*Omega:42*Omega,0]\n",
    "N = len(f1)\n",
    "g1 = FilterSignal(f1, 0.05*N, band='low')\n",
    "PlotFT(f1, Omega, fig=1, color='0.75')\n",
    "PlotFT(g1, Omega, fig=1, clf=False)\n",
    "Audio(g1, rate=Omega)"
   ]
  },
  {
   "cell_type": "code",
   "execution_count": null,
   "metadata": {
    "hidden": true
   },
   "outputs": [],
   "source": [
    "# Narrowing filter on banjo\n",
    "Omega, f = scipy.io.wavfile.read('TwoHeads.wav')\n",
    "Audio(f[25*Omega:37*Omega,0], rate=Omega)"
   ]
  },
  {
   "cell_type": "markdown",
   "metadata": {
    "hidden": true
   },
   "source": [
    "### Separating components"
   ]
  },
  {
   "cell_type": "code",
   "execution_count": null,
   "metadata": {
    "hidden": true
   },
   "outputs": [],
   "source": [
    "ff = f[150*Omega:165*Omega,0].copy()\n",
    "PlotSignal(ff, Omega)\n",
    "Audio(ff, rate=Omega)"
   ]
  },
  {
   "cell_type": "code",
   "execution_count": null,
   "metadata": {
    "hidden": true
   },
   "outputs": [],
   "source": [
    "FF = np.fft.fftshift(np.fft.fft(ff))\n",
    "shifted_omega = ShiftedFreqSamples(ff, Omega)\n",
    "PlotFT(ff, Omega);"
   ]
  },
  {
   "cell_type": "code",
   "execution_count": null,
   "metadata": {
    "hidden": true
   },
   "outputs": [],
   "source": [
    "T = 600\n",
    "G = FF.copy()\n",
    "G[abs(shifted_omega)>T] = 0.\n",
    "plt.figure(1); plt.clf()\n",
    "PlotFT_raw(shifted_omega, abs(G), color='r');"
   ]
  },
  {
   "cell_type": "code",
   "execution_count": null,
   "metadata": {
    "hidden": true
   },
   "outputs": [],
   "source": [
    "g_low = np.real(ifft(ifftshift(G)))\n",
    "g = g_low\n",
    "Audio(np.real(g), rate=Omega)"
   ]
  },
  {
   "cell_type": "code",
   "execution_count": null,
   "metadata": {
    "hidden": true
   },
   "outputs": [],
   "source": [
    "T = 1000\n",
    "G = FF.copy()\n",
    "G[abs(shifted_omega)<T] = 0.\n",
    "PlotFT_raw(shifted_omega, abs(G), fig=1, clf=False)\n",
    "g_high = np.real(ifft(ifftshift(G)))\n",
    "g = g_high\n",
    "Audio(np.real(g), rate=Omega)"
   ]
  },
  {
   "cell_type": "markdown",
   "metadata": {
    "hidden": true
   },
   "source": [
    "## Frequency Shifting"
   ]
  },
  {
   "cell_type": "code",
   "execution_count": null,
   "metadata": {
    "hidden": true
   },
   "outputs": [],
   "source": [
    "Omega, f = scipy.io.wavfile.read('handel.wav')\n",
    "F = fftshift(fft(f))\n",
    "shifted_omega = ShiftedFreqSamples(f, Omega)\n",
    "t = TimeSamples(f, Omega)\n",
    "#shifted_omega = ShiftedFreqSamples(f, Omega)\n",
    "print('Sampling rate is '+str(Omega)+' Hz')\n",
    "print('Number of samples is '+str(np.shape(f)))\n",
    "plt.plot(shifted_omega, (abs(F)))\n",
    "plt.title('Frequency Domain')\n",
    "plt.xlabel('Frequency (Hz)')\n",
    "plt.ylabel('Modulus');\n",
    "Audio(f, rate=Omega)"
   ]
  },
  {
   "cell_type": "markdown",
   "metadata": {
    "hidden": true
   },
   "source": [
    "### Shift a bunch of Fourier coefficients"
   ]
  },
  {
   "cell_type": "code",
   "execution_count": null,
   "metadata": {
    "hidden": true
   },
   "outputs": [],
   "source": [
    "from copy import deepcopy\n",
    "Fshift = deepcopy(F)\n",
    "tau_1 = 100\n",
    "tau_2 = 1200\n",
    "shift_Hz = 200\n",
    "L = t[-1]\n",
    "shift = int(shift_Hz*L)\n",
    "print(shift)"
   ]
  },
  {
   "cell_type": "code",
   "execution_count": null,
   "metadata": {
    "hidden": true
   },
   "outputs": [],
   "source": [
    "idx1 = list(shifted_omega>=tau_1).index(True)\n",
    "idx2 = list(shifted_omega<tau_2).index(False)"
   ]
  },
  {
   "cell_type": "code",
   "execution_count": null,
   "metadata": {
    "hidden": true
   },
   "outputs": [],
   "source": [
    "idx = np.arange(idx1,idx2)\n",
    "Fshift[idx+shift] = F[idx]"
   ]
  },
  {
   "cell_type": "code",
   "execution_count": null,
   "metadata": {
    "hidden": true
   },
   "outputs": [],
   "source": [
    "g = ifft(ifftshift(Fshift))\n",
    "Audio(np.real(g), rate=Omega)"
   ]
  },
  {
   "cell_type": "code",
   "execution_count": null,
   "metadata": {
    "hidden": true
   },
   "outputs": [],
   "source": []
  }
 ],
 "metadata": {
  "kernelspec": {
   "display_name": "Python 3",
   "language": "python",
   "name": "python3"
  },
  "language_info": {
   "codemirror_mode": {
    "name": "ipython",
    "version": 3
   },
   "file_extension": ".py",
   "mimetype": "text/x-python",
   "name": "python",
   "nbconvert_exporter": "python",
   "pygments_lexer": "ipython3",
   "version": "3.6.8"
  },
  "toc": {
   "nav_menu": {},
   "number_sections": true,
   "sideBar": true,
   "skip_h1_title": false,
   "title_cell": "Table of Contents",
   "title_sidebar": "Contents",
   "toc_cell": false,
   "toc_position": {},
   "toc_section_display": true,
   "toc_window_display": false
  }
 },
 "nbformat": 4,
 "nbformat_minor": 2
}
