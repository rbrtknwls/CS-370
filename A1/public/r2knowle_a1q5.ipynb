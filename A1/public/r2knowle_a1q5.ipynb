{
 "cells": [
  {
   "cell_type": "markdown",
   "metadata": {},
   "source": [
    "# A1"
   ]
  },
  {
   "cell_type": "code",
   "execution_count": 1,
   "metadata": {},
   "outputs": [],
   "source": [
    "# Standard imports\n",
    "import numpy as np\n",
    "np.seterr(all='ignore');  # allows floating-point exceptions\n",
    "import matplotlib.pyplot as plt"
   ]
  },
  {
   "cell_type": "markdown",
   "metadata": {},
   "source": [
    "## Q5: Bank Fraud"
   ]
  },
  {
   "cell_type": "markdown",
   "metadata": {
    "code_folding": []
   },
   "source": [
    "### Supplied Code (do not edit)"
   ]
  },
  {
   "cell_type": "code",
   "execution_count": 2,
   "metadata": {},
   "outputs": [],
   "source": [
    "def ReceiveTransactions():\n",
    "    '''\n",
    "     credit, debit = ReceiveTransactions()\n",
    "    \n",
    "     Returns two 10000x1 single-precision arrays of transactions.\n",
    "       credit has all positive values\n",
    "       debit has all negative values\n",
    "    '''\n",
    "    N = 10000\n",
    "\n",
    "    credit = np.float32(abs(np.random.randn(N)))*20000.\n",
    "    debit = -np.float32(abs(np.random.randn(N)))*20000.\n",
    "\n",
    "    credit = np.round(credit, decimals=2)\n",
    "    debit = np.round(debit, decimals=2)\n",
    "\n",
    "    return [credit, debit]"
   ]
  },
  {
   "cell_type": "code",
   "execution_count": 5,
   "metadata": {},
   "outputs": [],
   "source": [
    "def CalculateNet(credit, debit):\n",
    "    '''\n",
    "     net = CalculateNet(credit, debit)\n",
    "\n",
    "     Add together the credits and debits to get the net income.\n",
    "\n",
    "     Input\n",
    "       credit:  An array of positive values\n",
    "       debit:   An array of negative values\n",
    "\n",
    "     Output\n",
    "       net:     The result from adding up all the credits and debits\n",
    "    '''\n",
    "\n",
    "    N = len(credit)\n",
    "\n",
    "    scredit = np.sort(credit)\n",
    "    sdebit = -np.sort(-debit)\n",
    "\n",
    "    # Method A\n",
    "    netA = np.sum(credit) + np.sum(debit)\n",
    "    \n",
    "    \n",
    "    # Method B\n",
    "    netB = np.sum(credit)\n",
    "    for d in sdebit:\n",
    "        netB += d\n",
    "\n",
    "    # Method C\n",
    "    netC = 0.\n",
    "    for c,d in zip(scredit, sdebit):\n",
    "        netC += c + d\n",
    "        \n",
    "    net = np.min([netA, netB, netC])\n",
    "    \n",
    "    return net"
   ]
  },
  {
   "cell_type": "markdown",
   "metadata": {},
   "source": [
    "### Process a set of transactions"
   ]
  },
  {
   "cell_type": "code",
   "execution_count": 6,
   "metadata": {
    "code_folding": [
     0,
     2,
     32
    ]
   },
   "outputs": [
    {
     "name": "stdout",
     "output_type": "stream",
     "text": [
      "Net income: 8439.76009273529\n"
     ]
    }
   ],
   "source": [
    "c, d = ReceiveTransactions()\n",
    "\n",
    "net_income = CalculateNet(c, d)\n",
    "\n",
    "print('Net income: '+str(net_income))"
   ]
  },
  {
   "cell_type": "markdown",
   "metadata": {
    "code_folding": []
   },
   "source": [
    "### (a)"
   ]
  },
  {
   "cell_type": "markdown",
   "metadata": {},
   "source": [
    "The most accurate method is method C."
   ]
  },
  {
   "cell_type": "markdown",
   "metadata": {},
   "source": [
    "### (b)"
   ]
  },
  {
   "cell_type": "markdown",
   "metadata": {},
   "source": [
    "To prove that method C, lets first discuss method A and B.\n",
    "\n",
    "In method A we first sum all the credit scores and debit scores. Both the debit and credit scores will be very large numbers which must be rounded. We will then find the sum of the two rounded values to get an inaccurate result\n",
    "\n",
    "In method B we first find the sum of the credit scores and then add each debit score. The sum of credit values will be a very large number, so while we are subtracting each debit score at a time (which allows us to be very specific and not round) the result will be inaccurate because we rounded the first value.\n",
    "\n",
    "In method C we add one credit value and one debit value. Since these values are roughly equal in size, the result should be very small which means that we can keep track of it with only minimal rounding. For these reasons method C should be the most accurate."
   ]
  },
  {
   "cell_type": "markdown",
   "metadata": {},
   "source": [
    "### (c)"
   ]
  },
  {
   "cell_type": "markdown",
   "metadata": {},
   "source": [
    "CalculateNet gets the smallest estimation out of the following methods, in other words its getting when credit is minimized and when debit is maximized. This is fradulent as you are knowingly picking an inacurate value which benifits the bank the most and should be considered a crime."
   ]
  },
  {
   "cell_type": "code",
   "execution_count": null,
   "metadata": {},
   "outputs": [],
   "source": []
  },
  {
   "cell_type": "code",
   "execution_count": null,
   "metadata": {},
   "outputs": [],
   "source": []
  },
  {
   "cell_type": "code",
   "execution_count": null,
   "metadata": {},
   "outputs": [],
   "source": []
  },
  {
   "cell_type": "code",
   "execution_count": null,
   "metadata": {},
   "outputs": [],
   "source": []
  },
  {
   "cell_type": "code",
   "execution_count": null,
   "metadata": {},
   "outputs": [],
   "source": []
  },
  {
   "cell_type": "code",
   "execution_count": null,
   "metadata": {},
   "outputs": [],
   "source": []
  },
  {
   "cell_type": "code",
   "execution_count": null,
   "metadata": {
    "heading_collapsed": true
   },
   "outputs": [],
   "source": []
  },
  {
   "cell_type": "code",
   "execution_count": null,
   "metadata": {
    "heading_collapsed": true,
    "hidden": true
   },
   "outputs": [],
   "source": []
  },
  {
   "cell_type": "code",
   "execution_count": null,
   "metadata": {
    "hidden": true
   },
   "outputs": [],
   "source": []
  },
  {
   "cell_type": "code",
   "execution_count": null,
   "metadata": {
    "hidden": true
   },
   "outputs": [],
   "source": []
  },
  {
   "cell_type": "code",
   "execution_count": null,
   "metadata": {
    "heading_collapsed": true,
    "hidden": true
   },
   "outputs": [],
   "source": []
  },
  {
   "cell_type": "code",
   "execution_count": null,
   "metadata": {
    "hidden": true
   },
   "outputs": [],
   "source": []
  },
  {
   "cell_type": "code",
   "execution_count": null,
   "metadata": {
    "hidden": true
   },
   "outputs": [],
   "source": []
  },
  {
   "cell_type": "code",
   "execution_count": null,
   "metadata": {
    "hidden": true
   },
   "outputs": [],
   "source": []
  },
  {
   "cell_type": "code",
   "execution_count": null,
   "metadata": {
    "hidden": true
   },
   "outputs": [],
   "source": []
  },
  {
   "cell_type": "code",
   "execution_count": null,
   "metadata": {
    "hidden": true
   },
   "outputs": [],
   "source": []
  },
  {
   "cell_type": "code",
   "execution_count": null,
   "metadata": {
    "hidden": true
   },
   "outputs": [],
   "source": []
  },
  {
   "cell_type": "code",
   "execution_count": null,
   "metadata": {
    "hidden": true
   },
   "outputs": [],
   "source": []
  },
  {
   "cell_type": "code",
   "execution_count": null,
   "metadata": {
    "hidden": true
   },
   "outputs": [],
   "source": []
  }
 ],
 "metadata": {
  "kernelspec": {
   "display_name": "Python 3 (ipykernel)",
   "language": "python",
   "name": "python3"
  },
  "language_info": {
   "codemirror_mode": {
    "name": "ipython",
    "version": 3
   },
   "file_extension": ".py",
   "mimetype": "text/x-python",
   "name": "python",
   "nbconvert_exporter": "python",
   "pygments_lexer": "ipython3",
   "version": "3.10.9"
  },
  "toc": {
   "nav_menu": {},
   "number_sections": true,
   "sideBar": true,
   "skip_h1_title": false,
   "title_cell": "Table of Contents",
   "title_sidebar": "Contents",
   "toc_cell": false,
   "toc_position": {},
   "toc_section_display": true,
   "toc_window_display": false
  }
 },
 "nbformat": 4,
 "nbformat_minor": 4
}
