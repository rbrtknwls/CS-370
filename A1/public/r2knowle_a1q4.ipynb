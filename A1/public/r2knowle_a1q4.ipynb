{
 "cells": [
  {
   "cell_type": "markdown",
   "metadata": {},
   "source": [
    "# A1"
   ]
  },
  {
   "cell_type": "code",
   "execution_count": 1,
   "metadata": {},
   "outputs": [],
   "source": [
    "# Standard imports\n",
    "import numpy as np\n",
    "np.seterr(all='ignore');  # allows floating-point exceptions\n",
    "import matplotlib.pyplot as plt"
   ]
  },
  {
   "cell_type": "markdown",
   "metadata": {},
   "source": [
    "## Q4: Upper Bound on Error"
   ]
  },
  {
   "cell_type": "markdown",
   "metadata": {
    "code_folding": []
   },
   "source": [
    "We begin with the equation:\n",
    "\n",
    "\\begin{align}\n",
    "    \\frac{\\big| ( a \\otimes b ) \\ominus c - (ab-c) \\big|}{\\left| ab - c \\right|}\n",
    "\\end{align}\n",
    "\n",
    "To determine the error we will first determine the error for $( a \\otimes b )$. We will set the realtive error to be $S_1$, and so by rearraning we get:\n",
    "\n",
    "\\begin{align}\n",
    "    S_1 &= \\text{ Relative error } \\\\\n",
    "    S_1 &= \\frac{ ( a \\otimes b ) - ( a \\times b) } { ( a \\times b )} \\\\\n",
    "    S_1 &= \\frac{ ( a \\otimes b ) - ( ab) } { ( ab )} \\\\\n",
    "    S_1( ab ) &= ( a \\otimes b ) - ( ab) \\\\\n",
    "    ( ab )(1 + S_1) &= ( a \\otimes b )\n",
    "\\end{align}\n",
    "\n",
    "Lets do the same for $ a \\ominus c $ (where a represents some value). We will set the realtive error to be $S_2$, and so by rearraning we get:\n",
    "\n",
    "\n",
    "\\begin{align}\n",
    "    S_2 &\\geq \\text{ Relative error } \\\\\n",
    "    S_2 &\\geq \\frac{ ( a \\ominus b ) - ( a - b) } { ( a - b )} \\\\\n",
    "    S_2( a - b ) &\\geq ( a \\ominus b ) - ( a - b ) \\\\\n",
    "    ( a - b )(S_2 + 1) &\\geq ( a \\ominus b )\n",
    "\\end{align}\n",
    "\n",
    "And so with these two identities proven we can now move forward. Starting again with our  equation we have:\n",
    "\n",
    "\\begin{align}\n",
    "    \\frac{\\big| ( a \\otimes b ) \\ominus c - (ab-c) \\big|}{\\left| ab - c \\right|} \n",
    "       &\\leq  \\frac{\\big| ( ab )(1 + S_1) \\ominus c - (ab-c) \\big|}{\\left| ab - c \\right|} \\\\\n",
    "       &\\leq  \\frac{\\big| \\lbrack( ab )(1 + S_1) -c\\rbrack(S_2+1) - (ab-c) \\big|}{\\left| ab - c \\right|} \\\\\n",
    "       &\\leq  \\frac{\\big| \\lbrack  ab + abS_1 -c\\rbrack(S_2+1) - (ab-c) \\big|}{\\left| ab - c \\right|} \\\\\n",
    "       &\\leq  \\frac{\\big| ab + abS_1 - c + abS_2 + abS_1S_2 - cS_2 - (ab-c) \\big|}{\\left| ab - c \\right|} \\\\\n",
    "       &\\leq  \\frac{\\big| abS_1 + abS_2 + abS_1S_2 - cS_2 \\big|}{\\left| ab - c \\right|} \\\\\n",
    "       &\\leq  \\frac{\\big| abS_1 + abS_1S_2 + abS_2- cS_2 \\big|}{\\left| ab - c \\right|} \\\\\n",
    "       &\\leq  \\frac{\\big| abS_1 + abS_1S_2 + (ab-c)S_2 \\big|}{\\left| ab - c \\right|} \\\\\n",
    "       &\\leq  \\frac{\\big| (ab)S_1(1+S_2) + (ab-c)S_2 \\big|}{\\left| ab - c \\right|} \\\\\n",
    "\\end{align}\n",
    "\n",
    "We will first apply the triangle inequality and thus we will use that $S_1 \\leq E$ and $S_2 \\leq E$ where E is machine epsilon to get:\n",
    "\n",
    "\\begin{align}\n",
    "   \\frac{\\big| (ab)S_1(1+S_2) + (ab-c)S_2 \\big|}{\\left| ab - c \\right|} \n",
    "    &\\leq  \\frac{\\big| ab\\big|}{\\left| ab - c \\right|} \\big| S_1(1+S_2) \\big| + \\big| S_2 \\big| \\\\\n",
    "    &\\leq  \\frac{\\big| ab\\big|}{\\left| ab - c \\right|} \\big| E(1+E) \\big| + \\big| E \\big|\n",
    "\\end{align}\n",
    "\n",
    "Which gives us the required result."
   ]
  },
  {
   "cell_type": "code",
   "execution_count": null,
   "metadata": {},
   "outputs": [],
   "source": []
  },
  {
   "cell_type": "code",
   "execution_count": null,
   "metadata": {},
   "outputs": [],
   "source": []
  },
  {
   "cell_type": "code",
   "execution_count": null,
   "metadata": {},
   "outputs": [],
   "source": []
  },
  {
   "cell_type": "code",
   "execution_count": null,
   "metadata": {
    "code_folding": [
     0,
     2,
     32
    ]
   },
   "outputs": [],
   "source": []
  },
  {
   "cell_type": "code",
   "execution_count": null,
   "metadata": {
    "code_folding": []
   },
   "outputs": [],
   "source": []
  },
  {
   "cell_type": "code",
   "execution_count": null,
   "metadata": {},
   "outputs": [],
   "source": []
  },
  {
   "cell_type": "code",
   "execution_count": null,
   "metadata": {},
   "outputs": [],
   "source": []
  },
  {
   "cell_type": "code",
   "execution_count": null,
   "metadata": {},
   "outputs": [],
   "source": []
  },
  {
   "cell_type": "code",
   "execution_count": null,
   "metadata": {},
   "outputs": [],
   "source": []
  },
  {
   "cell_type": "code",
   "execution_count": null,
   "metadata": {},
   "outputs": [],
   "source": []
  },
  {
   "cell_type": "code",
   "execution_count": null,
   "metadata": {},
   "outputs": [],
   "source": []
  },
  {
   "cell_type": "code",
   "execution_count": null,
   "metadata": {},
   "outputs": [],
   "source": []
  },
  {
   "cell_type": "code",
   "execution_count": null,
   "metadata": {},
   "outputs": [],
   "source": []
  },
  {
   "cell_type": "code",
   "execution_count": null,
   "metadata": {},
   "outputs": [],
   "source": []
  },
  {
   "cell_type": "code",
   "execution_count": null,
   "metadata": {},
   "outputs": [],
   "source": []
  },
  {
   "cell_type": "code",
   "execution_count": null,
   "metadata": {},
   "outputs": [],
   "source": []
  },
  {
   "cell_type": "code",
   "execution_count": null,
   "metadata": {
    "heading_collapsed": true
   },
   "outputs": [],
   "source": []
  },
  {
   "cell_type": "code",
   "execution_count": null,
   "metadata": {
    "heading_collapsed": true,
    "hidden": true
   },
   "outputs": [],
   "source": []
  },
  {
   "cell_type": "code",
   "execution_count": null,
   "metadata": {
    "hidden": true
   },
   "outputs": [],
   "source": []
  },
  {
   "cell_type": "code",
   "execution_count": null,
   "metadata": {
    "hidden": true
   },
   "outputs": [],
   "source": []
  },
  {
   "cell_type": "code",
   "execution_count": null,
   "metadata": {
    "heading_collapsed": true,
    "hidden": true
   },
   "outputs": [],
   "source": []
  },
  {
   "cell_type": "code",
   "execution_count": null,
   "metadata": {
    "hidden": true
   },
   "outputs": [],
   "source": []
  },
  {
   "cell_type": "code",
   "execution_count": null,
   "metadata": {
    "hidden": true
   },
   "outputs": [],
   "source": []
  },
  {
   "cell_type": "code",
   "execution_count": null,
   "metadata": {
    "hidden": true
   },
   "outputs": [],
   "source": []
  },
  {
   "cell_type": "code",
   "execution_count": null,
   "metadata": {
    "hidden": true
   },
   "outputs": [],
   "source": []
  },
  {
   "cell_type": "code",
   "execution_count": null,
   "metadata": {
    "hidden": true
   },
   "outputs": [],
   "source": []
  },
  {
   "cell_type": "code",
   "execution_count": null,
   "metadata": {
    "hidden": true
   },
   "outputs": [],
   "source": []
  },
  {
   "cell_type": "code",
   "execution_count": null,
   "metadata": {
    "hidden": true
   },
   "outputs": [],
   "source": []
  },
  {
   "cell_type": "code",
   "execution_count": null,
   "metadata": {
    "hidden": true
   },
   "outputs": [],
   "source": []
  }
 ],
 "metadata": {
  "kernelspec": {
   "display_name": "Python 3 (ipykernel)",
   "language": "python",
   "name": "python3"
  },
  "language_info": {
   "codemirror_mode": {
    "name": "ipython",
    "version": 3
   },
   "file_extension": ".py",
   "mimetype": "text/x-python",
   "name": "python",
   "nbconvert_exporter": "python",
   "pygments_lexer": "ipython3",
   "version": "3.10.9"
  },
  "toc": {
   "nav_menu": {},
   "number_sections": true,
   "sideBar": true,
   "skip_h1_title": false,
   "title_cell": "Table of Contents",
   "title_sidebar": "Contents",
   "toc_cell": false,
   "toc_position": {},
   "toc_section_display": true,
   "toc_window_display": false
  }
 },
 "nbformat": 4,
 "nbformat_minor": 4
}
