{
 "cells": [
  {
   "cell_type": "markdown",
   "metadata": {},
   "source": [
    "# A1"
   ]
  },
  {
   "cell_type": "code",
   "execution_count": 47,
   "metadata": {},
   "outputs": [],
   "source": [
    "# Standard imports\n",
    "import numpy as np\n",
    "np.seterr(all='ignore');  # allows floating-point exceptions\n",
    "import matplotlib.pyplot as plt"
   ]
  },
  {
   "cell_type": "markdown",
   "metadata": {},
   "source": [
    "## Q2: fp2dec"
   ]
  },
  {
   "cell_type": "code",
   "execution_count": 3,
   "metadata": {
    "code_folding": []
   },
   "outputs": [],
   "source": [
    "# Supplied Code\n",
    "\n",
    "def fpMath(b1, b2, fcn, t, L, U):\n",
    "    '''\n",
    "     b = fpMath(b1, b2, fcn, t, L, U)\n",
    "    \n",
    "     Performs a binary arithmetic operation.\n",
    "     \n",
    "     Inputs:\n",
    "       b1 and b2 are the input binary strings, from F(2, t, L, U)\n",
    "       fcn is a function that takes 2 inputs, and returns a value.\n",
    "       t, L, and U specify the FPNS.\n",
    "    \n",
    "     Output:\n",
    "       b is a binary string for the nearest value in F(2, t, L, U).\n",
    "    \n",
    "     For example, 3 - (-1) in binary, is\n",
    "    \n",
    "      fpMath('+0.11b2', '-0.01b2', (lambda z1,z2: z1-z2), 2, -5, 5)\n",
    "    \n",
    "     would perform subtraction, and return the string '+0.10b3'.\n",
    "    '''\n",
    "\n",
    "    x1 = fp2dec(b1)\n",
    "    x2 = fp2dec(b2)\n",
    "    \n",
    "    y = fcn(x1, x2)\n",
    "    \n",
    "    b = dec2fp(y, t, L, U)\n",
    "    \n",
    "    return b\n",
    "\n",
    "def dec2fp(x_orig, t, L, U):\n",
    "    '''\n",
    "     b = dec2fp(x, t, L, U)\n",
    "    \n",
    "     Converts the number x to a binary floating-point representation,\n",
    "     rounding to t digits, and L and U as the lower and upper bounds on\n",
    "     the exponent.\n",
    "    '''\n",
    "\n",
    "    x = x_orig\n",
    "    \n",
    "    # First, handle the exceptions\n",
    "    if x==0:\n",
    "        y = '+0.'\n",
    "        for k in range(t):\n",
    "            y += '0'\n",
    "        y += 'b0'\n",
    "        return y\n",
    "    elif x==np.inf:\n",
    "        return 'Inf'\n",
    "    elif x==-np.inf:\n",
    "        return '-Inf'\n",
    "    elif np.isnan(x):\n",
    "        return 'NaN'\n",
    "    \n",
    "    if x<0:\n",
    "        x = -x\n",
    "        bx = '-0.'\n",
    "    else:\n",
    "        bx = '+0.'\n",
    "    \n",
    "    if x>=1:\n",
    "        myexp = 0\n",
    "        while x>=1:\n",
    "            x /= 2.\n",
    "            myexp += 1\n",
    "    else:\n",
    "        myexp = 1\n",
    "        while x<1:\n",
    "            x *= 2.\n",
    "            myexp  -= 1\n",
    "        x /= 2.\n",
    "        \n",
    "    remainder = x - np.floor(x)\n",
    "    \n",
    "    # Process the fractional part for t binary digits\n",
    "    for d in range(t):\n",
    "        remainder = remainder * 2.\n",
    "        if remainder>=1:\n",
    "            bx += '1'\n",
    "            remainder -= 1\n",
    "        else:\n",
    "            bx += '0'\n",
    "    \n",
    "    bx += 'b' + str(myexp)\n",
    "\n",
    "    # Round up if remainder is >= 0.5\n",
    "    if False: #remainder>=0.5:\n",
    "        delta = list(bx)\n",
    "        delta[3:3+t] = '0'*t\n",
    "        delta[2+t] = '1'\n",
    "        bx_up = fpMath(bx, ''.join(delta), (lambda z1,z2: z1+z2), t, L, U);\n",
    "        print('Rounding '+bx+' up to '+bx_up+' by adding '+''.join(delta))\n",
    "        bx = bx_up\n",
    "\n",
    "    y = bx\n",
    "    \n",
    "    if myexp>U:\n",
    "        y = 'overflow'\n",
    "    elif myexp<L:\n",
    "        y = '+0.'\n",
    "        for k in range(t):\n",
    "            y += '0'\n",
    "        y += 'b0'\n",
    "    \n",
    "    return y"
   ]
  },
  {
   "cell_type": "code",
   "execution_count": 85,
   "metadata": {},
   "outputs": [],
   "source": [
    "def fp2dec(B):\n",
    "    '''\n",
    "     x = fp2dec(B)\n",
    "    \n",
    "     Converts the string B to a decimal value (double-precision).\n",
    "     Examples:\n",
    "      fp2dec('+0.11000b1')  ->  1.5\n",
    "      fp2dec('-0.10101b-2') -> -0.1640625\n",
    "      fp2dec('-0.101b5')    -> -20\n",
    "    '''\n",
    "    \n",
    "    # ==== YOUR CODE HERE ====\n",
    "    pos_of_b = 0;\n",
    "    \n",
    "    for i in range(0, len(B)):\n",
    "        if (B[i] == 'b'):\n",
    "            # Ignore the sign and 0.\n",
    "            pos_of_b = i;\n",
    "    \n",
    "    exp = np.double(0);\n",
    "    if (B[pos_of_b +1] == '-'):\n",
    "        exp = int(B[pos_of_b+2:len(B)]);\n",
    "        exp = exp * -1;\n",
    "        \n",
    "    else:\n",
    "        exp = int(B[pos_of_b+1:len(B)]);\n",
    "\n",
    "    sum = 0;\n",
    "    exp = exp -1;\n",
    "    for decimal in range (3, pos_of_b):\n",
    "        sum += np.double(B[decimal]) * np.double(np.float_power(2,exp));\n",
    "        exp = exp - 1;\n",
    "    \n",
    "    if B[0] == '-':\n",
    "        sum = sum * -1;\n",
    "    return sum"
   ]
  },
  {
   "cell_type": "code",
   "execution_count": 86,
   "metadata": {},
   "outputs": [
    {
     "data": {
      "text/plain": [
       "1.5"
      ]
     },
     "execution_count": 86,
     "metadata": {},
     "output_type": "execute_result"
    }
   ],
   "source": [
    "fp2dec('+0.11000b1')"
   ]
  },
  {
   "cell_type": "code",
   "execution_count": 87,
   "metadata": {},
   "outputs": [
    {
     "data": {
      "text/plain": [
       "-0.1640625"
      ]
     },
     "execution_count": 87,
     "metadata": {},
     "output_type": "execute_result"
    }
   ],
   "source": [
    "fp2dec('-0.10101b-2')"
   ]
  },
  {
   "cell_type": "code",
   "execution_count": 88,
   "metadata": {
    "code_folding": [
     0,
     2,
     32
    ]
   },
   "outputs": [
    {
     "data": {
      "text/plain": [
       "-20.0"
      ]
     },
     "execution_count": 88,
     "metadata": {},
     "output_type": "execute_result"
    }
   ],
   "source": [
    "fp2dec('-0.101b5')"
   ]
  },
  {
   "cell_type": "code",
   "execution_count": null,
   "metadata": {
    "code_folding": []
   },
   "outputs": [],
   "source": []
  },
  {
   "cell_type": "code",
   "execution_count": null,
   "metadata": {},
   "outputs": [],
   "source": []
  },
  {
   "cell_type": "code",
   "execution_count": null,
   "metadata": {},
   "outputs": [],
   "source": []
  },
  {
   "cell_type": "code",
   "execution_count": null,
   "metadata": {},
   "outputs": [],
   "source": []
  },
  {
   "cell_type": "code",
   "execution_count": null,
   "metadata": {},
   "outputs": [],
   "source": []
  },
  {
   "cell_type": "code",
   "execution_count": null,
   "metadata": {},
   "outputs": [],
   "source": []
  },
  {
   "cell_type": "code",
   "execution_count": null,
   "metadata": {},
   "outputs": [],
   "source": []
  },
  {
   "cell_type": "code",
   "execution_count": null,
   "metadata": {},
   "outputs": [],
   "source": []
  },
  {
   "cell_type": "code",
   "execution_count": null,
   "metadata": {},
   "outputs": [],
   "source": []
  },
  {
   "cell_type": "code",
   "execution_count": null,
   "metadata": {},
   "outputs": [],
   "source": []
  },
  {
   "cell_type": "code",
   "execution_count": null,
   "metadata": {},
   "outputs": [],
   "source": []
  },
  {
   "cell_type": "code",
   "execution_count": null,
   "metadata": {},
   "outputs": [],
   "source": []
  },
  {
   "cell_type": "code",
   "execution_count": null,
   "metadata": {
    "heading_collapsed": true
   },
   "outputs": [],
   "source": []
  },
  {
   "cell_type": "code",
   "execution_count": null,
   "metadata": {
    "heading_collapsed": true,
    "hidden": true
   },
   "outputs": [],
   "source": []
  },
  {
   "cell_type": "code",
   "execution_count": null,
   "metadata": {
    "hidden": true
   },
   "outputs": [],
   "source": []
  },
  {
   "cell_type": "code",
   "execution_count": null,
   "metadata": {
    "hidden": true
   },
   "outputs": [],
   "source": []
  },
  {
   "cell_type": "code",
   "execution_count": null,
   "metadata": {
    "heading_collapsed": true,
    "hidden": true
   },
   "outputs": [],
   "source": []
  },
  {
   "cell_type": "code",
   "execution_count": null,
   "metadata": {
    "hidden": true
   },
   "outputs": [],
   "source": []
  },
  {
   "cell_type": "code",
   "execution_count": null,
   "metadata": {
    "hidden": true
   },
   "outputs": [],
   "source": []
  },
  {
   "cell_type": "code",
   "execution_count": null,
   "metadata": {
    "hidden": true
   },
   "outputs": [],
   "source": []
  },
  {
   "cell_type": "code",
   "execution_count": null,
   "metadata": {
    "hidden": true
   },
   "outputs": [],
   "source": []
  },
  {
   "cell_type": "code",
   "execution_count": null,
   "metadata": {
    "hidden": true
   },
   "outputs": [],
   "source": []
  },
  {
   "cell_type": "code",
   "execution_count": null,
   "metadata": {
    "hidden": true
   },
   "outputs": [],
   "source": []
  },
  {
   "cell_type": "code",
   "execution_count": null,
   "metadata": {
    "hidden": true
   },
   "outputs": [],
   "source": []
  },
  {
   "cell_type": "code",
   "execution_count": null,
   "metadata": {
    "hidden": true
   },
   "outputs": [],
   "source": []
  }
 ],
 "metadata": {
  "kernelspec": {
   "display_name": "Python 3 (ipykernel)",
   "language": "python",
   "name": "python3"
  },
  "language_info": {
   "codemirror_mode": {
    "name": "ipython",
    "version": 3
   },
   "file_extension": ".py",
   "mimetype": "text/x-python",
   "name": "python",
   "nbconvert_exporter": "python",
   "pygments_lexer": "ipython3",
   "version": "3.10.9"
  },
  "toc": {
   "nav_menu": {},
   "number_sections": true,
   "sideBar": true,
   "skip_h1_title": false,
   "title_cell": "Table of Contents",
   "title_sidebar": "Contents",
   "toc_cell": false,
   "toc_position": {},
   "toc_section_display": true,
   "toc_window_display": false
  }
 },
 "nbformat": 4,
 "nbformat_minor": 4
}
